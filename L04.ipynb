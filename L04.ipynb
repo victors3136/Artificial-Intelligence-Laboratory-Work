{
 "cells": [
  {
   "cell_type": "code",
   "execution_count": 1,
   "id": "99429362-c6da-41cb-8671-82ef39c256f5",
   "metadata": {},
   "outputs": [
    {
     "data": {
      "text/plain": [
       "False"
      ]
     },
     "execution_count": 1,
     "metadata": {},
     "output_type": "execute_result"
    }
   ],
   "source": [
    "import torch\n",
    "torch.cuda.is_available()"
   ]
  },
  {
   "cell_type": "code",
   "execution_count": 2,
   "id": "d4d62f66-32aa-4f4d-b596-36d8d721a5a4",
   "metadata": {},
   "outputs": [
    {
     "name": "stdout",
     "output_type": "stream",
     "text": [
      "tensor([2.], requires_grad=True)\n"
     ]
    }
   ],
   "source": [
    "x = torch.tensor([2.0], requires_grad=True)\n",
    "print(x)"
   ]
  },
  {
   "cell_type": "code",
   "execution_count": 3,
   "id": "94eba280-0415-4747-99fc-9f12eee68c92",
   "metadata": {},
   "outputs": [
    {
     "name": "stdout",
     "output_type": "stream",
     "text": [
      "tensor([9.], grad_fn=<AddBackward0>)\n"
     ]
    }
   ],
   "source": [
    "y = x ** 2 + 2 * x + 1\n",
    "print(y)"
   ]
  },
  {
   "cell_type": "code",
   "execution_count": 4,
   "id": "5d233b29-2ebe-4666-8e0f-b626d808e43a",
   "metadata": {},
   "outputs": [],
   "source": [
    "y.backward()"
   ]
  },
  {
   "cell_type": "code",
   "execution_count": 5,
   "id": "e3775bf2-12a0-461d-832f-5d5486939f58",
   "metadata": {},
   "outputs": [
    {
     "data": {
      "text/plain": [
       "tensor([6.])"
      ]
     },
     "execution_count": 5,
     "metadata": {},
     "output_type": "execute_result"
    }
   ],
   "source": [
    "x.grad"
   ]
  },
  {
   "cell_type": "code",
   "execution_count": 6,
   "id": "3234c29b-1773-4833-9b69-8d6411b35da1",
   "metadata": {},
   "outputs": [
    {
     "data": {
      "text/plain": [
       "tensor([9.], grad_fn=<AddBackward0>)"
      ]
     },
     "execution_count": 6,
     "metadata": {},
     "output_type": "execute_result"
    }
   ],
   "source": [
    "y"
   ]
  },
  {
   "cell_type": "code",
   "execution_count": 7,
   "id": "02243e86-9c6c-469b-9e95-6c72a628e1d4",
   "metadata": {},
   "outputs": [
    {
     "data": {
      "text/plain": [
       "tensor([2.], requires_grad=True)"
      ]
     },
     "execution_count": 7,
     "metadata": {},
     "output_type": "execute_result"
    }
   ],
   "source": [
    "x"
   ]
  },
  {
   "cell_type": "code",
   "execution_count": 8,
   "id": "73d60f9b-77c6-46bd-a8c7-1f3030bf3693",
   "metadata": {},
   "outputs": [
    {
     "name": "stdout",
     "output_type": "stream",
     "text": [
      "None\n",
      "None\n",
      "tensor([1., 1., 1.])\n"
     ]
    }
   ],
   "source": [
    "x = torch.tensor([1.,2.,3.], requires_grad=True)\n",
    "print(x.grad)\n",
    "y = x.sum()\n",
    "print(x.grad)\n",
    "y.backward()\n",
    "print(x.grad)"
   ]
  },
  {
   "cell_type": "code",
   "execution_count": 9,
   "id": "d1d44cfd-a53f-486b-b4cd-1febd7f4806c",
   "metadata": {},
   "outputs": [
    {
     "name": "stdout",
     "output_type": "stream",
     "text": [
      "Gradient at x = 0 is 0.250000\n",
      "Gradient at x = 0 is 0.250000\n",
      "Gradient at x = 100 is 0.0000\n",
      "Gradient at x = 100 is 0.000\n"
     ]
    }
   ],
   "source": [
    "# Exercise 1.\n",
    "# Compute the gradient for the sigmoid activation function in 2\n",
    "# points using pytorch and check it with the known explicit formula\n",
    "x1 = torch.tensor([0.], requires_grad=True) # Gradient should be max\n",
    "x2 = torch.tensor([100.], requires_grad=True) # Gradient should -> 0\n",
    "y1 = 1 / (1 + torch.exp( -1 * x1))\n",
    "y2 = 1 / (1 + torch.exp( -1 * x2))\n",
    "y1.backward()\n",
    "y2.backward()\n",
    "print(\"Gradient at x = 0 is {:.6f}\".format(x1.grad.item()))\n",
    "print(\"Gradient at x = 0 is {:.6f}\".format((y1 * (1 - y1)).item()))\n",
    "print(\"Gradient at x = 100 is {:.4f}\".format(x2.grad.item()))\n",
    "print(\"Gradient at x = 100 is {:.3f}\".format((y1 * (1- y2)).item()))"
   ]
  },
  {
   "cell_type": "code",
   "execution_count": 10,
   "id": "8e73df3e-b770-4e4c-934e-57aa63adb7db",
   "metadata": {},
   "outputs": [
    {
     "name": "stdout",
     "output_type": "stream",
     "text": [
      "Gradient at x = 0 is 1.000000\n",
      "Gradient at x = 0 is 1.000000\n",
      "Gradient at x = 100 is 1.0000\n",
      "Gradient at x = 100 is 1.0000\n"
     ]
    }
   ],
   "source": [
    "# Exercise 2.\n",
    "# Compute the gradient for the linear activation function in 2 \n",
    "# points using pytorch and check it with the known explicit formula\n",
    "x1 = torch.tensor([0.], requires_grad=True)\n",
    "x2 = torch.tensor([100.], requires_grad=True)\n",
    "y1 = x1\n",
    "y2 = x2\n",
    "y1.backward()\n",
    "y2.backward()\n",
    "print(\"Gradient at x = 0 is {:.6f}\".format(x1.grad.item()))\n",
    "print(\"Gradient at x = 0 is {:.6f}\".format(1))\n",
    "print(\"Gradient at x = 100 is {:.4f}\".format(x2.grad.item()))\n",
    "print(\"Gradient at x = 100 is {:.4f}\".format(1))"
   ]
  },
  {
   "cell_type": "code",
   "execution_count": 11,
   "id": "e8879291-0e5b-4f19-ae79-a808a12efd4f",
   "metadata": {},
   "outputs": [
    {
     "name": "stdout",
     "output_type": "stream",
     "text": [
      "Gradient at x = -1 is 0.000000\n",
      "Gradient at x = -1 is 0.000000\n",
      "Gradient at x = 100 is 1.00000\n",
      "Gradient at x = 100 is 1.00000\n"
     ]
    }
   ],
   "source": [
    "# Execise 3.\n",
    "# Compute the gradient for the relu activation function in 2\n",
    "# points using pytorch and check it with the known explicit formula.\n",
    "x1 = torch.tensor([-1.], requires_grad=True)\n",
    "x2 = torch.tensor([100.], requires_grad=True)\n",
    "y1 = torch.max(torch.tensor(0.0), x1)\n",
    "y2 = torch.max(torch.tensor(0.0), x2)\n",
    "y1.backward()\n",
    "y2.backward()\n",
    "print(\"Gradient at x = -1 is {:.6f}\".format(x1.grad.item()))\n",
    "print(\"Gradient at x = -1 is {:.6f}\".format(0 if x1 <= 0 else 1))\n",
    "print(\"Gradient at x = 100 is {:.5f}\".format(x2.grad.item()))\n",
    "print(\"Gradient at x = 100 is {:.5f}\".format(0 if x2 <= 0 else 1))"
   ]
  },
  {
   "cell_type": "code",
   "execution_count": 12,
   "id": "0bf62ed8-c347-4d1a-99a9-d8d0f72acd02",
   "metadata": {},
   "outputs": [
    {
     "data": {
      "image/png": "[encoded data removed]",
      "text/plain": [
       "<Figure size 640x480 with 1 Axes>"
      ]
     },
     "metadata": {},
     "output_type": "display_data"
    }
   ],
   "source": [
    "# Exercise 4.\n",
    "# Write in python a function to plot the sigmoid activation function\n",
    "# and its gradient using matplotlib\n",
    "import matplotlib.pyplot as pplt\n",
    "import numpy as np\n",
    "def plot_sigmoid():\n",
    "    x = np.arange(-5., 5, 0.1)\n",
    "    y = 1 / (1 + np.exp(-1 * x))\n",
    "    grad = y * (1 - y)\n",
    "    pplt.plot(x,y, color='r',label='Sigmoid function')\n",
    "    pplt.plot(x,grad, color='orange', label='Sigmoid gradient')\n",
    "    pplt.legend()\n",
    "    pplt.show()\n",
    "plot_sigmoid()"
   ]
  },
  {
   "cell_type": "code",
   "execution_count": 13,
   "id": "54cf3654-f8ce-433a-ab39-f26fe03615e1",
   "metadata": {},
   "outputs": [
    {
     "data": {
      "image/png": "[encoded data removed]",
      "text/plain": [
       "<Figure size 640x480 with 1 Axes>"
      ]
     },
     "metadata": {},
     "output_type": "display_data"
    }
   ],
   "source": [
    "# Exercise 5.\n",
    "# Write in python a function to plot the ReLU activation function\n",
    "# and its gradient using matplotlib.\n",
    "\n",
    "def plot_relu():\n",
    "    x = np.arange(-5., 5, 0.1)\n",
    "    y = np.maximum(0, x)\n",
    "    grad = np.where(x >= 0, 1, 0)\n",
    "    pplt.plot(x, y, color='r',label='ReLU function')\n",
    "    pplt.plot(x, grad, color='orange', label='ReLU gradient')\n",
    "    pplt.legend()\n",
    "    pplt.show()\n",
    "plot_relu()"
   ]
  },
  {
   "cell_type": "code",
   "execution_count": 14,
   "id": "309ea28e-9fff-4ef4-b6ee-2cf01906c337",
   "metadata": {},
   "outputs": [
    {
     "data": {
      "image/png": "[encoded data removed]",
      "text/plain": [
       "<Figure size 640x480 with 1 Axes>"
      ]
     },
     "metadata": {},
     "output_type": "display_data"
    }
   ],
   "source": [
    "# Exercise 6.\n",
    "# Write in python a function to plot the tanh activation function\n",
    "# and its gradient using matplotlib\n",
    "\n",
    "def plot_tanh():\n",
    "    x = np.arange(-5., 5, 0.1)\n",
    "    y = np.tanh(x)\n",
    "    grad = 1 - (np.tanh(x) ** 2)\n",
    "    pplt.plot(x, y, color='r',label='TanH function')\n",
    "    pplt.plot(x, grad, color='orange', label='TanH gradient')\n",
    "    pplt.legend()\n",
    "    pplt.show()\n",
    "plot_tanh()"
   ]
  },
  {
   "cell_type": "code",
   "execution_count": 15,
   "id": "1c1890c1-62a1-4d5e-a530-9e05e2819d67",
   "metadata": {},
   "outputs": [],
   "source": [
    "import torch\n",
    "import torch.nn as nn\n",
    "INPUT_SIZE = 2\n",
    "OUTPUT_SIZE = 1\n",
    "class Perceptron(nn.Module):\n",
    "    def __init__ (self, input_dim, output_dim):\n",
    "                  super(Perceptron, self).__init__()\n",
    "                  self.linear = nn.Linear(input_dim, output_dim)\n",
    "                  self.activation = nn.Sigmoid()\n",
    "    def forward(self, x):\n",
    "        x = self.linear(x)\n",
    "        x = self.activation(x)\n",
    "        return x"
   ]
  },
  {
   "cell_type": "code",
   "execution_count": 16,
   "id": "432bab75-2ca8-40c9-b861-7351c075c73b",
   "metadata": {},
   "outputs": [
    {
     "name": "stdout",
     "output_type": "stream",
     "text": [
      "tensor([0.3785], grad_fn=<SigmoidBackward0>)\n"
     ]
    }
   ],
   "source": [
    "perceptron = Perceptron(INPUT_SIZE, OUTPUT_SIZE)\n",
    "x = torch.tensor([0.5, 0.2])\n",
    "y = perceptron(x)\n",
    "print(y)"
   ]
  },
  {
   "cell_type": "code",
   "execution_count": 17,
   "id": "fb6fac29-13d4-40ee-aaae-2d31fda36ee7",
   "metadata": {},
   "outputs": [
    {
     "name": "stdout",
     "output_type": "stream",
     "text": [
      "Epoch [100/1000], Loss: 0.5209\n",
      "Epoch [200/1000], Loss: 0.5185\n",
      "Epoch [300/1000], Loss: 0.5184\n",
      "Epoch [400/1000], Loss: 0.5184\n",
      "Epoch [500/1000], Loss: 0.5184\n",
      "Epoch [600/1000], Loss: 0.5184\n",
      "Epoch [700/1000], Loss: 0.5184\n",
      "Epoch [800/1000], Loss: 0.5184\n",
      "Epoch [900/1000], Loss: 0.5184\n",
      "Epoch [1000/1000], Loss: 0.5184\n"
     ]
    }
   ],
   "source": [
    "# Define the loss function and optimizer\n",
    "criterion = nn.BCELoss()  # Binary cross-entropy loss\n",
    "optimizer = torch.optim.SGD(perceptron.parameters(), lr=0.1)  \n",
    "# Stochastic gradient descent optimizer\n",
    "\n",
    "# Generate some random input data and labels\n",
    "input_data = torch.randn((10, INPUT_SIZE))\n",
    "labels = torch.randint(0, 2, (10, OUTPUT_SIZE)).float()\n",
    "\n",
    "# Train the model\n",
    "num_epochs = 1000\n",
    "for epoch in range(num_epochs):\n",
    "    # Forward pass\n",
    "    outputs = perceptron(input_data)\n",
    "    loss = criterion(outputs, labels)\n",
    "\n",
    "    # Backward pass and optimization\n",
    "    optimizer.zero_grad()\n",
    "    loss.backward()\n",
    "    optimizer.step()\n",
    "\n",
    "    # Print the loss every 100 epochs\n",
    "    if (epoch + 1) % 100 == 0:\n",
    "        print(f'Epoch [{epoch+1}/{num_epochs}], Loss: {loss.item():.4f}')"
   ]
  },
  {
   "cell_type": "code",
   "execution_count": 18,
   "id": "be5da9fc-e130-4d34-add9-62be09256e5b",
   "metadata": {},
   "outputs": [
    {
     "name": "stdout",
     "output_type": "stream",
     "text": [
      "Epoch [100/1000], Loss: 0.3834\n",
      "Epoch [200/1000], Loss: 0.2940\n",
      "Epoch [300/1000], Loss: 0.2361\n",
      "Epoch [400/1000], Loss: 0.1962\n",
      "Epoch [500/1000], Loss: 0.1671\n",
      "Epoch [600/1000], Loss: 0.1452\n",
      "Epoch [700/1000], Loss: 0.1280\n",
      "Epoch [800/1000], Loss: 0.1143\n",
      "Epoch [900/1000], Loss: 0.1031\n",
      "Epoch [1000/1000], Loss: 0.0938\n"
     ]
    }
   ],
   "source": [
    "# Exercise 8:\n",
    "# Implement a binary classification model using the Perceptron class in PyTorch \n",
    "# for the logic OR.\n",
    "# Your task is to create a Perceptron instance and train it using a proper \n",
    "# dataset and the binary cross-entropy loss with stochastic gradient descent optimizer.\n",
    "# Here are the steps you can follow:\n",
    "#    Define a Perceptron class that inherits from torch.nn.Module and implements a\n",
    "#  binary classification model.\n",
    "#    Define a binary cross-entropy loss function using the torch.nn.BCEWithLogitsLoss module.\n",
    "#    Define a stochastic gradient descent optimizer using the torch.optim.SGD module.\n",
    "#    Train the Perceptron model on the training set using the binary cross-entropy\n",
    "# loss and stochastic gradient descent optimizer.\n",
    "#\n",
    "#Evaluate the trained model compute the accuracy.\n",
    "perceptORn = Perceptron(INPUT_SIZE, OUTPUT_SIZE)\n",
    "criterion = nn.BCELoss()\n",
    "optimizer = torch.optim.SGD(perceptORn.parameters(), lr=0.1)  \n",
    "\n",
    "input_data = torch.randint(0,2,(1000, INPUT_SIZE)).float()\n",
    "labels = torch.tensor([[1.] if (x[0] or x[1]) else [0.] for x in input_data])\n",
    "\n",
    "num_epochs = 1_000\n",
    "for epoch in range(num_epochs):\n",
    "    outputs = perceptORn(input_data)\n",
    "    loss = criterion(outputs, labels)\n",
    "    optimizer.zero_grad()\n",
    "    loss.backward()\n",
    "    optimizer.step()\n",
    "    if (epoch + 1) % 100 == 0:\n",
    "        print(f'Epoch [{epoch+1}/{num_epochs}], Loss: {loss.item():.4f}')\n"
   ]
  },
  {
   "cell_type": "code",
   "execution_count": 19,
   "id": "9092ceec-b186-45e4-bec4-269bda6fecde",
   "metadata": {},
   "outputs": [
    {
     "name": "stdout",
     "output_type": "stream",
     "text": [
      "Test accuracy: 90.59%\n"
     ]
    }
   ],
   "source": [
    "test_inputs = torch.randint(0,2,(100, INPUT_SIZE)).float()\n",
    "test_labels = torch.tensor([[1.] if (x[0] or x[1]) else [0.] for x in test_inputs])\n",
    "\n",
    "test_outputs = perceptORn(test_inputs)\n",
    "test_accuracy = criterion(test_labels, test_outputs)\n",
    "print(f\"Test accuracy: {100.-test_accuracy.item():.2f}%\")"
   ]
  }
 ],
 "metadata": {
  "kernelspec": {
   "display_name": "Python 3 (ipykernel)",
   "language": "python",
   "name": "python3"
  },
  "language_info": {
   "codemirror_mode": {
    "name": "ipython",
    "version": 3
   },
   "file_extension": ".py",
   "mimetype": "text/x-python",
   "name": "python",
   "nbconvert_exporter": "python",
   "pygments_lexer": "ipython3",
   "version": "3.11.8"
  }
 },
 "nbformat": 4,
 "nbformat_minor": 5
}
