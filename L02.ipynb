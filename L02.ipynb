{
 "cells": [
  {
   "cell_type": "code",
   "execution_count": 1,
   "id": "efe975d5-8112-4253-976d-f411c589a09d",
   "metadata": {},
   "outputs": [],
   "source": [
    "import numpy as np\n",
    "import scipy as sp\n",
    "import matplotlib as mpl\n",
    "import matplotlib.cm as cm\n",
    "import matplotlib.pyplot as plt\n",
    "import pandas as pd\n",
    "from sklearn import preprocessing"
   ]
  },
  {
   "cell_type": "code",
   "execution_count": 2,
   "id": "6d7430c0-dd47-4d62-b559-eb2fa9bfde34",
   "metadata": {},
   "outputs": [
    {
     "data": {
      "text/html": [
       "<style>#sk-container-id-1 {color: black;}#sk-container-id-1 pre{padding: 0;}#sk-container-id-1 div.sk-toggleable {background-color: white;}#sk-container-id-1 label.sk-toggleable__label {cursor: pointer;display: block;width: 100%;margin-bottom: 0;padding: 0.3em;box-sizing: border-box;text-align: center;}#sk-container-id-1 label.sk-toggleable__label-arrow:before {content: \"▸\";float: left;margin-right: 0.25em;color: #696969;}#sk-container-id-1 label.sk-toggleable__label-arrow:hover:before {color: black;}#sk-container-id-1 div.sk-estimator:hover label.sk-toggleable__label-arrow:before {color: black;}#sk-container-id-1 div.sk-toggleable__content {max-height: 0;max-width: 0;overflow: hidden;text-align: left;background-color: #f0f8ff;}#sk-container-id-1 div.sk-toggleable__content pre {margin: 0.2em;color: black;border-radius: 0.25em;background-color: #f0f8ff;}#sk-container-id-1 input.sk-toggleable__control:checked~div.sk-toggleable__content {max-height: 200px;max-width: 100%;overflow: auto;}#sk-container-id-1 input.sk-toggleable__control:checked~label.sk-toggleable__label-arrow:before {content: \"▾\";}#sk-container-id-1 div.sk-estimator input.sk-toggleable__control:checked~label.sk-toggleable__label {background-color: #d4ebff;}#sk-container-id-1 div.sk-label input.sk-toggleable__control:checked~label.sk-toggleable__label {background-color: #d4ebff;}#sk-container-id-1 input.sk-hidden--visually {border: 0;clip: rect(1px 1px 1px 1px);clip: rect(1px, 1px, 1px, 1px);height: 1px;margin: -1px;overflow: hidden;padding: 0;position: absolute;width: 1px;}#sk-container-id-1 div.sk-estimator {font-family: monospace;background-color: #f0f8ff;border: 1px dotted black;border-radius: 0.25em;box-sizing: border-box;margin-bottom: 0.5em;}#sk-container-id-1 div.sk-estimator:hover {background-color: #d4ebff;}#sk-container-id-1 div.sk-parallel-item::after {content: \"\";width: 100%;border-bottom: 1px solid gray;flex-grow: 1;}#sk-container-id-1 div.sk-label:hover label.sk-toggleable__label {background-color: #d4ebff;}#sk-container-id-1 div.sk-serial::before {content: \"\";position: absolute;border-left: 1px solid gray;box-sizing: border-box;top: 0;bottom: 0;left: 50%;z-index: 0;}#sk-container-id-1 div.sk-serial {display: flex;flex-direction: column;align-items: center;background-color: white;padding-right: 0.2em;padding-left: 0.2em;position: relative;}#sk-container-id-1 div.sk-item {position: relative;z-index: 1;}#sk-container-id-1 div.sk-parallel {display: flex;align-items: stretch;justify-content: center;background-color: white;position: relative;}#sk-container-id-1 div.sk-item::before, #sk-container-id-1 div.sk-parallel-item::before {content: \"\";position: absolute;border-left: 1px solid gray;box-sizing: border-box;top: 0;bottom: 0;left: 50%;z-index: -1;}#sk-container-id-1 div.sk-parallel-item {display: flex;flex-direction: column;z-index: 1;position: relative;background-color: white;}#sk-container-id-1 div.sk-parallel-item:first-child::after {align-self: flex-end;width: 50%;}#sk-container-id-1 div.sk-parallel-item:last-child::after {align-self: flex-start;width: 50%;}#sk-container-id-1 div.sk-parallel-item:only-child::after {width: 0;}#sk-container-id-1 div.sk-dashed-wrapped {border: 1px dashed gray;margin: 0 0.4em 0.5em 0.4em;box-sizing: border-box;padding-bottom: 0.4em;background-color: white;}#sk-container-id-1 div.sk-label label {font-family: monospace;font-weight: bold;display: inline-block;line-height: 1.2em;}#sk-container-id-1 div.sk-label-container {text-align: center;}#sk-container-id-1 div.sk-container {/* jupyter's `normalize.less` sets `[hidden] { display: none; }` but bootstrap.min.css set `[hidden] { display: none !important; }` so we also need the `!important` here to be able to override the default hidden behavior on the sphinx rendered scikit-learn.org. See: https://github.com/scikit-learn/scikit-learn/issues/21755 */display: inline-block !important;position: relative;}#sk-container-id-1 div.sk-text-repr-fallback {display: none;}</style><div id=\"sk-container-id-1\" class=\"sk-top-container\"><div class=\"sk-text-repr-fallback\"><pre>StandardScaler()</pre><b>In a Jupyter environment, please rerun this cell to show the HTML representation or trust the notebook. <br />On GitHub, the HTML representation is unable to render, please try loading this page with nbviewer.org.</b></div><div class=\"sk-container\" hidden><div class=\"sk-item\"><div class=\"sk-estimator sk-toggleable\"><input class=\"sk-toggleable__control sk-hidden--visually\" id=\"sk-estimator-id-1\" type=\"checkbox\" checked><label for=\"sk-estimator-id-1\" class=\"sk-toggleable__label sk-toggleable__label-arrow\">StandardScaler</label><div class=\"sk-toggleable__content\"><pre>StandardScaler()</pre></div></div></div></div></div>"
      ],
      "text/plain": [
       "StandardScaler()"
      ]
     },
     "execution_count": 2,
     "metadata": {},
     "output_type": "execute_result"
    }
   ],
   "source": [
    "X_train = np.array([[1., -1., 2.],\n",
    "...                 [2., 0., 0.],\n",
    "...                 [0., 1., -1.]])\n",
    "\n",
    "scaler = preprocessing.StandardScaler().fit(X_train)\n",
    "scaler"
   ]
  },
  {
   "cell_type": "code",
   "execution_count": 3,
   "id": "ffad2c1b-8c7c-404b-bbfe-d73caa29f87e",
   "metadata": {},
   "outputs": [
    {
     "data": {
      "text/plain": [
       "array([1.        , 0.        , 0.33333333])"
      ]
     },
     "execution_count": 3,
     "metadata": {},
     "output_type": "execute_result"
    }
   ],
   "source": [
    "scaler.mean_"
   ]
  },
  {
   "cell_type": "code",
   "execution_count": 4,
   "id": "828171c0-3af4-4731-b123-80afbcb0afee",
   "metadata": {},
   "outputs": [
    {
     "data": {
      "text/plain": [
       "array([0.81649658, 0.81649658, 1.24721913])"
      ]
     },
     "execution_count": 4,
     "metadata": {},
     "output_type": "execute_result"
    }
   ],
   "source": [
    "scaler.scale_"
   ]
  },
  {
   "cell_type": "code",
   "execution_count": 5,
   "id": "adb93ac2-f4a3-47b0-aaec-dc9ef12cdcfe",
   "metadata": {},
   "outputs": [
    {
     "data": {
      "text/plain": [
       "array([[ 0.        , -1.22474487,  1.33630621],\n",
       "       [ 1.22474487,  0.        , -0.26726124],\n",
       "       [-1.22474487,  1.22474487, -1.06904497]])"
      ]
     },
     "execution_count": 5,
     "metadata": {},
     "output_type": "execute_result"
    }
   ],
   "source": [
    "X_scaled = scaler.transform(X_train)\n",
    "X_scaled"
   ]
  },
  {
   "cell_type": "code",
   "execution_count": 6,
   "id": "48fbbf04-57dc-4819-aeb7-8cccb56cdcb6",
   "metadata": {},
   "outputs": [
    {
     "data": {
      "text/plain": [
       "array([[ 0.        , -1.22474487,  1.33630621],\n",
       "       [ 1.22474487,  0.        , -0.26726124],\n",
       "       [-1.22474487,  1.22474487, -1.06904497]])"
      ]
     },
     "execution_count": 6,
     "metadata": {},
     "output_type": "execute_result"
    }
   ],
   "source": [
    "(X_train - scaler.mean_)/scaler.scale_"
   ]
  },
  {
   "cell_type": "code",
   "execution_count": 7,
   "id": "ef9f3d66-849b-4371-bc51-25bd3eb65c2f",
   "metadata": {},
   "outputs": [
    {
     "data": {
      "text/plain": [
       "array([[ True,  True,  True],\n",
       "       [ True,  True,  True],\n",
       "       [ True,  True,  True]])"
      ]
     },
     "execution_count": 7,
     "metadata": {},
     "output_type": "execute_result"
    }
   ],
   "source": [
    "X_scaled == (X_train - scaler.mean_)/scaler.scale_"
   ]
  },
  {
   "cell_type": "code",
   "execution_count": 8,
   "id": "e04bc699-a52f-4099-97cc-01cb4e93cebb",
   "metadata": {},
   "outputs": [
    {
     "name": "stdout",
     "output_type": "stream",
     "text": [
      "mean: [0. 0. 0.] , std: [1. 1. 1.]\n"
     ]
    }
   ],
   "source": [
    "print(\"mean:\", X_scaled.mean(axis=0),\", std:\",  X_scaled.std(axis=0))"
   ]
  },
  {
   "cell_type": "code",
   "execution_count": 9,
   "id": "3bef5301-1600-4661-a2ac-3d2fa44363c0",
   "metadata": {},
   "outputs": [
    {
     "data": {
      "text/plain": [
       "array([[0.5       , 0.        , 1.        ],\n",
       "       [1.        , 0.5       , 0.33333333],\n",
       "       [0.        , 1.        , 0.        ]])"
      ]
     },
     "execution_count": 9,
     "metadata": {},
     "output_type": "execute_result"
    }
   ],
   "source": [
    "X_train = np.array([[ 1., -1.,  2.],\n",
    "...                     [ 2.,  0.,  0.],\n",
    "...                     [ 0.,  1., -1.]])\n",
    "min_max_scaler = preprocessing.MinMaxScaler()\n",
    "X_train_minmax = min_max_scaler.fit_transform(X_train)\n",
    "X_train_minmax"
   ]
  },
  {
   "cell_type": "code",
   "execution_count": 10,
   "id": "e8036272-d16d-47c5-bf16-6ea387440bf0",
   "metadata": {},
   "outputs": [
    {
     "data": {
      "text/plain": [
       "array([[-1.5       ,  0.        ,  1.66666667]])"
      ]
     },
     "execution_count": 10,
     "metadata": {},
     "output_type": "execute_result"
    }
   ],
   "source": [
    "X_test = np.array([[-3., -1., 4.]])\n",
    "X_test_minmax = min_max_scaler.transform(X_test)\n",
    "X_test_minmax"
   ]
  },
  {
   "cell_type": "code",
   "execution_count": 11,
   "id": "dc4b1d07-c8da-41f3-98cb-e62f1c9bb67b",
   "metadata": {},
   "outputs": [
    {
     "data": {
      "text/plain": [
       "array([0.5       , 0.5       , 0.33333333])"
      ]
     },
     "execution_count": 11,
     "metadata": {},
     "output_type": "execute_result"
    }
   ],
   "source": [
    "min_max_scaler.scale_"
   ]
  },
  {
   "cell_type": "code",
   "execution_count": 12,
   "id": "078d5978-dce9-4174-ba56-eebd4d830e4e",
   "metadata": {},
   "outputs": [
    {
     "data": {
      "text/plain": [
       "array([0.        , 0.5       , 0.33333333])"
      ]
     },
     "execution_count": 12,
     "metadata": {},
     "output_type": "execute_result"
    }
   ],
   "source": [
    "min_max_scaler.min_"
   ]
  },
  {
   "cell_type": "code",
   "execution_count": 13,
   "id": "4a8a35bc-68a0-4270-9d99-a3448146c510",
   "metadata": {},
   "outputs": [
    {
     "data": {
      "text/plain": [
       "array([[ 0.5, -1. ,  1. ],\n",
       "       [ 1. ,  0. ,  0. ],\n",
       "       [ 0. ,  1. , -0.5]])"
      ]
     },
     "execution_count": 13,
     "metadata": {},
     "output_type": "execute_result"
    }
   ],
   "source": [
    "X_train = np.array([[ 1., -1.,  2.],\n",
    "...                     [ 2.,  0.,  0.],\n",
    "...                     [ 0.,  1., -1.]])\n",
    "\n",
    "max_abs_scaler = preprocessing.MaxAbsScaler()\n",
    "X_train_maxabs = max_abs_scaler.fit_transform(X_train)\n",
    "X_train_maxabs"
   ]
  },
  {
   "cell_type": "code",
   "execution_count": 14,
   "id": "3ac09157-c810-491d-854a-8369fb672f17",
   "metadata": {},
   "outputs": [
    {
     "data": {
      "text/plain": [
       "array([[-1.5, -1. ,  2. ]])"
      ]
     },
     "execution_count": 14,
     "metadata": {},
     "output_type": "execute_result"
    }
   ],
   "source": [
    "X_test = np.array([[ -3., -1.,  4.]])\n",
    "X_test_maxabs = max_abs_scaler.transform(X_test)\n",
    "X_test_maxabs"
   ]
  },
  {
   "cell_type": "code",
   "execution_count": 15,
   "id": "4d5f1f2e-fcb8-4ee0-84eb-40fdcad0e175",
   "metadata": {},
   "outputs": [
    {
     "data": {
      "text/plain": [
       "array([2., 1., 2.])"
      ]
     },
     "execution_count": 15,
     "metadata": {},
     "output_type": "execute_result"
    }
   ],
   "source": [
    "max_abs_scaler.scale_"
   ]
  },
  {
   "cell_type": "code",
   "execution_count": 16,
   "id": "1dacf416-303e-489a-984f-9dd3edfedeba",
   "metadata": {},
   "outputs": [
    {
     "data": {
      "text/plain": [
       "array([[ 0.40824829, -0.40824829,  0.81649658],\n",
       "       [ 1.        ,  0.        ,  0.        ],\n",
       "       [ 0.        ,  0.70710678, -0.70710678]])"
      ]
     },
     "execution_count": 16,
     "metadata": {},
     "output_type": "execute_result"
    }
   ],
   "source": [
    "X = [[ 1., -1.,  2.],\n",
    "...  [ 2.,  0.,  0.],\n",
    "...  [ 0.,  1., -1.]]\n",
    "\n",
    "X_normalized = preprocessing.normalize(X, norm = 'l2')\n",
    "\n",
    "X_normalized"
   ]
  },
  {
   "cell_type": "code",
   "execution_count": 17,
   "id": "260625e3-dec9-4744-a925-3f90617fa1d1",
   "metadata": {},
   "outputs": [
    {
     "data": {
      "text/html": [
       "<style>#sk-container-id-2 {color: black;}#sk-container-id-2 pre{padding: 0;}#sk-container-id-2 div.sk-toggleable {background-color: white;}#sk-container-id-2 label.sk-toggleable__label {cursor: pointer;display: block;width: 100%;margin-bottom: 0;padding: 0.3em;box-sizing: border-box;text-align: center;}#sk-container-id-2 label.sk-toggleable__label-arrow:before {content: \"▸\";float: left;margin-right: 0.25em;color: #696969;}#sk-container-id-2 label.sk-toggleable__label-arrow:hover:before {color: black;}#sk-container-id-2 div.sk-estimator:hover label.sk-toggleable__label-arrow:before {color: black;}#sk-container-id-2 div.sk-toggleable__content {max-height: 0;max-width: 0;overflow: hidden;text-align: left;background-color: #f0f8ff;}#sk-container-id-2 div.sk-toggleable__content pre {margin: 0.2em;color: black;border-radius: 0.25em;background-color: #f0f8ff;}#sk-container-id-2 input.sk-toggleable__control:checked~div.sk-toggleable__content {max-height: 200px;max-width: 100%;overflow: auto;}#sk-container-id-2 input.sk-toggleable__control:checked~label.sk-toggleable__label-arrow:before {content: \"▾\";}#sk-container-id-2 div.sk-estimator input.sk-toggleable__control:checked~label.sk-toggleable__label {background-color: #d4ebff;}#sk-container-id-2 div.sk-label input.sk-toggleable__control:checked~label.sk-toggleable__label {background-color: #d4ebff;}#sk-container-id-2 input.sk-hidden--visually {border: 0;clip: rect(1px 1px 1px 1px);clip: rect(1px, 1px, 1px, 1px);height: 1px;margin: -1px;overflow: hidden;padding: 0;position: absolute;width: 1px;}#sk-container-id-2 div.sk-estimator {font-family: monospace;background-color: #f0f8ff;border: 1px dotted black;border-radius: 0.25em;box-sizing: border-box;margin-bottom: 0.5em;}#sk-container-id-2 div.sk-estimator:hover {background-color: #d4ebff;}#sk-container-id-2 div.sk-parallel-item::after {content: \"\";width: 100%;border-bottom: 1px solid gray;flex-grow: 1;}#sk-container-id-2 div.sk-label:hover label.sk-toggleable__label {background-color: #d4ebff;}#sk-container-id-2 div.sk-serial::before {content: \"\";position: absolute;border-left: 1px solid gray;box-sizing: border-box;top: 0;bottom: 0;left: 50%;z-index: 0;}#sk-container-id-2 div.sk-serial {display: flex;flex-direction: column;align-items: center;background-color: white;padding-right: 0.2em;padding-left: 0.2em;position: relative;}#sk-container-id-2 div.sk-item {position: relative;z-index: 1;}#sk-container-id-2 div.sk-parallel {display: flex;align-items: stretch;justify-content: center;background-color: white;position: relative;}#sk-container-id-2 div.sk-item::before, #sk-container-id-2 div.sk-parallel-item::before {content: \"\";position: absolute;border-left: 1px solid gray;box-sizing: border-box;top: 0;bottom: 0;left: 50%;z-index: -1;}#sk-container-id-2 div.sk-parallel-item {display: flex;flex-direction: column;z-index: 1;position: relative;background-color: white;}#sk-container-id-2 div.sk-parallel-item:first-child::after {align-self: flex-end;width: 50%;}#sk-container-id-2 div.sk-parallel-item:last-child::after {align-self: flex-start;width: 50%;}#sk-container-id-2 div.sk-parallel-item:only-child::after {width: 0;}#sk-container-id-2 div.sk-dashed-wrapped {border: 1px dashed gray;margin: 0 0.4em 0.5em 0.4em;box-sizing: border-box;padding-bottom: 0.4em;background-color: white;}#sk-container-id-2 div.sk-label label {font-family: monospace;font-weight: bold;display: inline-block;line-height: 1.2em;}#sk-container-id-2 div.sk-label-container {text-align: center;}#sk-container-id-2 div.sk-container {/* jupyter's `normalize.less` sets `[hidden] { display: none; }` but bootstrap.min.css set `[hidden] { display: none !important; }` so we also need the `!important` here to be able to override the default hidden behavior on the sphinx rendered scikit-learn.org. See: https://github.com/scikit-learn/scikit-learn/issues/21755 */display: inline-block !important;position: relative;}#sk-container-id-2 div.sk-text-repr-fallback {display: none;}</style><div id=\"sk-container-id-2\" class=\"sk-top-container\"><div class=\"sk-text-repr-fallback\"><pre>OrdinalEncoder()</pre><b>In a Jupyter environment, please rerun this cell to show the HTML representation or trust the notebook. <br />On GitHub, the HTML representation is unable to render, please try loading this page with nbviewer.org.</b></div><div class=\"sk-container\" hidden><div class=\"sk-item\"><div class=\"sk-estimator sk-toggleable\"><input class=\"sk-toggleable__control sk-hidden--visually\" id=\"sk-estimator-id-2\" type=\"checkbox\" checked><label for=\"sk-estimator-id-2\" class=\"sk-toggleable__label sk-toggleable__label-arrow\">OrdinalEncoder</label><div class=\"sk-toggleable__content\"><pre>OrdinalEncoder()</pre></div></div></div></div></div>"
      ],
      "text/plain": [
       "OrdinalEncoder()"
      ]
     },
     "execution_count": 17,
     "metadata": {},
     "output_type": "execute_result"
    }
   ],
   "source": [
    "enc = preprocessing.OrdinalEncoder()\n",
    "X = [['male', 'from US', 'uses Safari'], ['female', 'from Europe', 'uses Firefox']]\n",
    "enc.fit(X)"
   ]
  },
  {
   "cell_type": "code",
   "execution_count": 18,
   "id": "bf735547-b410-45d7-a8da-2ff9fc053df5",
   "metadata": {},
   "outputs": [
    {
     "data": {
      "text/plain": [
       "array([[0., 1., 1.]])"
      ]
     },
     "execution_count": 18,
     "metadata": {},
     "output_type": "execute_result"
    }
   ],
   "source": [
    "enc.transform([['female', 'from US', 'uses Safari']])"
   ]
  },
  {
   "cell_type": "code",
   "execution_count": 19,
   "id": "c5af4a2f-d7ae-49ee-a45d-5408c26ab8fe",
   "metadata": {},
   "outputs": [
    {
     "name": "stdout",
     "output_type": "stream",
     "text": [
      "Found unknown categories ['from Asia'] in column 1 during transform\n"
     ]
    }
   ],
   "source": [
    "try:\n",
    "    enc.transform([['female', 'from Asia', 'uses Safari']])\n",
    "except ValueError as ve:\n",
    "    print(ve)"
   ]
  },
  {
   "cell_type": "code",
   "execution_count": 20,
   "id": "68a70b3d-dbf5-4af1-88e5-07a6ec3f6d25",
   "metadata": {},
   "outputs": [
    {
     "data": {
      "text/plain": [
       "array([[ 1.],\n",
       "       [ 0.],\n",
       "       [nan],\n",
       "       [ 0.]])"
      ]
     },
     "execution_count": 20,
     "metadata": {},
     "output_type": "execute_result"
    }
   ],
   "source": [
    "enc = preprocessing.OrdinalEncoder()\n",
    "X = [['male'], ['female'], [np.nan], ['female']]\n",
    "enc.fit_transform(X)"
   ]
  },
  {
   "cell_type": "code",
   "execution_count": 21,
   "id": "26db8b1d-cbdc-4477-beaf-eb4bc2abb4d8",
   "metadata": {},
   "outputs": [
    {
     "data": {
      "text/plain": [
       "array([[ 1.],\n",
       "       [ 0.],\n",
       "       [-1.],\n",
       "       [ 0.]])"
      ]
     },
     "execution_count": 21,
     "metadata": {},
     "output_type": "execute_result"
    }
   ],
   "source": [
    "enc = preprocessing.OrdinalEncoder(encoded_missing_value=-1)\n",
    "X = [['male'], ['female'], [np.nan], ['female']]\n",
    "enc.fit_transform(X)"
   ]
  },
  {
   "cell_type": "code",
   "execution_count": 22,
   "id": "c112d614-f0bc-4c44-9fd9-9c6a30181a24",
   "metadata": {},
   "outputs": [],
   "source": [
    "def process_customers():\n",
    "    '''\n",
    "        Load the dataset WA_Fn-UseC_-Telco-Customer-Churn.csv provided.\n",
    "        Perform transformations on it so it is prepared to build a model \n",
    "        (scaling the numerical data and the cathegorical features \n",
    "        transformed in numerical integer labels.\n",
    "    '''\n",
    "    file_contents = pd.read_csv(\"WA_Fn-UseC_-Telco-Customer-Churn.csv\")\n",
    "    if file_contents.empty:\n",
    "        print('Provided file is empty')\n",
    "        return None\n",
    "            \n",
    "    file_contents['TotalCharges'] = pd.to_numeric(file_contents['TotalCharges'], errors='coerce').fillna(0)\n",
    "\n",
    "    numeric_replacements = {col: 0 for col in file_contents.select_dtypes(include=[np.number]).columns}\n",
    "    file_contents.replace(numeric_replacements, inplace=True)\n",
    "\n",
    "    nums = file_contents.select_dtypes(include=[np.number]).columns\n",
    "    cats = file_contents.select_dtypes(include=[object]).columns\n",
    "    \n",
    "    ordinal_encoder = preprocessing.OrdinalEncoder()\n",
    "    standard_scaler = preprocessing.StandardScaler() \n",
    "    \n",
    "    file_contents[nums] = standard_scaler.fit_transform(file_contents[nums])\n",
    "    file_contents[cats] = ordinal_encoder.fit_transform(file_contents[cats])\n",
    "    return file_contents"
   ]
  },
  {
   "cell_type": "code",
   "execution_count": 23,
   "id": "282fb929-dbda-4838-9294-801868c085cd",
   "metadata": {},
   "outputs": [
    {
     "name": "stdout",
     "output_type": "stream",
     "text": [
      "      customerID  gender  SeniorCitizen  Partner  Dependents    tenure  \\\n",
      "0         5375.0     0.0      -0.439916      1.0         0.0 -1.277445   \n",
      "1         3962.0     1.0      -0.439916      0.0         0.0  0.066327   \n",
      "2         2564.0     1.0      -0.439916      0.0         0.0 -1.236724   \n",
      "3         5535.0     1.0      -0.439916      0.0         0.0  0.514251   \n",
      "4         6511.0     0.0      -0.439916      0.0         0.0 -1.236724   \n",
      "...          ...     ...            ...      ...         ...       ...   \n",
      "7038      4853.0     1.0      -0.439916      1.0         1.0 -0.340876   \n",
      "7039      1525.0     0.0      -0.439916      1.0         1.0  1.613701   \n",
      "7040      3367.0     0.0      -0.439916      1.0         1.0 -0.870241   \n",
      "7041      5934.0     1.0       2.273159      1.0         0.0 -1.155283   \n",
      "7042      2226.0     1.0      -0.439916      0.0         0.0  1.369379   \n",
      "\n",
      "      PhoneService  MultipleLines  InternetService  OnlineSecurity  ...  \\\n",
      "0              0.0            1.0              0.0             0.0  ...   \n",
      "1              1.0            0.0              0.0             2.0  ...   \n",
      "2              1.0            0.0              0.0             2.0  ...   \n",
      "3              0.0            1.0              0.0             2.0  ...   \n",
      "4              1.0            0.0              1.0             0.0  ...   \n",
      "...            ...            ...              ...             ...  ...   \n",
      "7038           1.0            2.0              0.0             2.0  ...   \n",
      "7039           1.0            2.0              1.0             0.0  ...   \n",
      "7040           0.0            1.0              0.0             2.0  ...   \n",
      "7041           1.0            2.0              1.0             0.0  ...   \n",
      "7042           1.0            0.0              1.0             2.0  ...   \n",
      "\n",
      "      DeviceProtection  TechSupport  StreamingTV  StreamingMovies  Contract  \\\n",
      "0                  0.0          0.0          0.0              0.0       0.0   \n",
      "1                  2.0          0.0          0.0              0.0       1.0   \n",
      "2                  0.0          0.0          0.0              0.0       0.0   \n",
      "3                  2.0          2.0          0.0              0.0       1.0   \n",
      "4                  0.0          0.0          0.0              0.0       0.0   \n",
      "...                ...          ...          ...              ...       ...   \n",
      "7038               2.0          2.0          2.0              2.0       1.0   \n",
      "7039               2.0          0.0          2.0              2.0       1.0   \n",
      "7040               0.0          0.0          0.0              0.0       0.0   \n",
      "7041               0.0          0.0          0.0              0.0       0.0   \n",
      "7042               2.0          2.0          2.0              2.0       2.0   \n",
      "\n",
      "      PaperlessBilling  PaymentMethod  MonthlyCharges  TotalCharges  Churn  \n",
      "0                  1.0            2.0       -1.160323     -0.992611    0.0  \n",
      "1                  0.0            3.0       -0.259629     -0.172165    0.0  \n",
      "2                  1.0            3.0       -0.362660     -0.958066    1.0  \n",
      "3                  0.0            0.0       -0.746535     -0.193672    0.0  \n",
      "4                  1.0            2.0        0.197365     -0.938874    1.0  \n",
      "...                ...            ...             ...           ...    ...  \n",
      "7038               1.0            3.0        0.665992     -0.127605    0.0  \n",
      "7039               1.0            1.0        1.277533      2.242606    0.0  \n",
      "7040               1.0            2.0       -1.168632     -0.852932    0.0  \n",
      "7041               1.0            3.0        0.320338     -0.870513    1.0  \n",
      "7042               1.0            0.0        1.358961      2.013897    0.0  \n",
      "\n",
      "[7043 rows x 21 columns]\n"
     ]
    }
   ],
   "source": [
    "print(process_customers())"
   ]
  },
  {
   "cell_type": "code",
   "execution_count": 24,
   "id": "3d7177a5-b982-4f88-9541-dd19d78c4185",
   "metadata": {},
   "outputs": [
    {
     "data": {
      "text/plain": [
       "numpy.ndarray"
      ]
     },
     "execution_count": 24,
     "metadata": {},
     "output_type": "execute_result"
    }
   ],
   "source": [
    "x_train = np.array([1,2,3])\n",
    "y_train = np.array([2,3,6])\n",
    "type(x_train)"
   ]
  },
  {
   "cell_type": "code",
   "execution_count": 25,
   "id": "53328edb-16b4-4921-8ee1-803e89d1eaa3",
   "metadata": {},
   "outputs": [
    {
     "data": {
      "text/plain": [
       "(3,)"
      ]
     },
     "execution_count": 25,
     "metadata": {},
     "output_type": "execute_result"
    }
   ],
   "source": [
    "x_train.shape"
   ]
  },
  {
   "cell_type": "code",
   "execution_count": 26,
   "id": "9411e751-6a3e-4d4c-861e-fbe39a2b1edf",
   "metadata": {},
   "outputs": [
    {
     "data": {
      "text/plain": [
       "(3, 1)"
      ]
     },
     "execution_count": 26,
     "metadata": {},
     "output_type": "execute_result"
    }
   ],
   "source": [
    "x_train = x_train.reshape(3,1)\n",
    "x_train.shape"
   ]
  },
  {
   "cell_type": "code",
   "execution_count": 27,
   "id": "b08c7205-6425-4ebb-b015-4e775f1e7fc0",
   "metadata": {},
   "outputs": [
    {
     "data": {
      "text/plain": [
       "<matplotlib.collections.PathCollection at 0x22b03335710>"
      ]
     },
     "execution_count": 27,
     "metadata": {},
     "output_type": "execute_result"
    },
    {
     "data": {
      "image/png": "[encoded data removed]",
      "text/plain": [
       "<Figure size 640x480 with 1 Axes>"
      ]
     },
     "metadata": {},
     "output_type": "display_data"
    }
   ],
   "source": [
    "plt.scatter(x_train, y_train)"
   ]
  },
  {
   "cell_type": "code",
   "execution_count": 28,
   "id": "2c010f3d-15ee-4657-8ec2-d9c3c8c2ec09",
   "metadata": {},
   "outputs": [
    {
     "name": "stdout",
     "output_type": "stream",
     "text": [
      "(3, 1) (3,)\n"
     ]
    }
   ],
   "source": [
    "print(x_train.shape, y_train.shape)"
   ]
  },
  {
   "cell_type": "code",
   "execution_count": 29,
   "id": "82839e75-c363-4186-984c-3558a54813e2",
   "metadata": {},
   "outputs": [],
   "source": [
    "def nice_scatterplot(x: np.array, y: np.array, title: str) -> plt.Axes:\n",
    "    font_size = 18\n",
    "    figure, axes = plt.subplots(1,1,figsize = (8,5))\n",
    "    axes.set_xlim(np.min(x) - 1, np.max(x) + 1)\n",
    "    axes.set_ylim(np.min(y) - 1, np.max(y) + 1)\n",
    "    axes.tick_params(labelsize=font_size)\n",
    "    axes.tick_params(labelbottom=False, bottom=False)\n",
    "    axes.set_xlabel(r'$x$', fontsize=font_size)\n",
    "    axes.set_ylabel(r'$y$', fontsize=font_size)\n",
    "    axes.set_title(title, fontsize=font_size)\n",
    "    axes.grid(True, lw=1.75, ls='--', alpha=0.15)\n",
    "    axes.scatter(x,y,label=r'$my\\,points$')\n",
    "    axes.legend(loc='best', fontsize=font_size)\n",
    "    return axes"
   ]
  },
  {
   "cell_type": "code",
   "execution_count": 30,
   "id": "a14421b8-deaf-4fe1-b23d-256bc519cc06",
   "metadata": {},
   "outputs": [
    {
     "data": {
      "text/plain": [
       "<Axes: title={'center': 'A nice plot'}, xlabel='$x$', ylabel='$y$'>"
      ]
     },
     "execution_count": 30,
     "metadata": {},
     "output_type": "execute_result"
    },
    {
     "data": {
      "image/png": "[encoded data removed]",
      "text/plain": [
       "<Figure size 800x500 with 1 Axes>"
      ]
     },
     "metadata": {},
     "output_type": "display_data"
    }
   ],
   "source": [
    "nice_scatterplot(x_train, y_train, 'A nice plot')"
   ]
  },
  {
   "cell_type": "code",
   "execution_count": 31,
   "id": "3128810d-b2a6-420d-a51a-eb507110590b",
   "metadata": {},
   "outputs": [
    {
     "name": "stdout",
     "output_type": "stream",
     "text": [
      "(2, 4)\n",
      "(4, 2)\n"
     ]
    }
   ],
   "source": [
    "xx = np.array([[1,2,3,4],[3,4,6,8]])\n",
    "print(xx.shape)\n",
    "xxx= xx.reshape(-1,2)\n",
    "print(xxx.shape)"
   ]
  },
  {
   "cell_type": "code",
   "execution_count": 32,
   "id": "04ad4a16-41bb-4d15-85c6-6c7c42099de7",
   "metadata": {},
   "outputs": [
    {
     "name": "stdout",
     "output_type": "stream",
     "text": [
      "(3, 1)\n"
     ]
    }
   ],
   "source": [
    "x_train = x_train.reshape(x_train.shape[0], 1)\n",
    "y_train = y_train.reshape(y_train.shape[0], 1)\n",
    "print(x_train.shape)"
   ]
  },
  {
   "cell_type": "code",
   "execution_count": 33,
   "id": "25e34c74-22e3-4cb1-a351-2003224132fe",
   "metadata": {},
   "outputs": [],
   "source": [
    "y_bar = np.mean(y_train)\n",
    "x_bar = np.mean(x_train)"
   ]
  },
  {
   "cell_type": "code",
   "execution_count": 34,
   "id": "2aba0da9-da09-42b6-b9bf-1d0484c8f93a",
   "metadata": {},
   "outputs": [
    {
     "name": "stdout",
     "output_type": "stream",
     "text": [
      "() ()\n"
     ]
    }
   ],
   "source": [
    "aux = x_train - x_bar\n",
    "numer = np.sum(aux * (y_train - y_bar))\n",
    "denom = np.sum(aux ** 2)\n",
    "print(numer.shape, denom.shape)"
   ]
  },
  {
   "cell_type": "code",
   "execution_count": 35,
   "id": "3263c6ca-6737-4dbb-85c7-49f89a42dcd3",
   "metadata": {},
   "outputs": [
    {
     "name": "stdout",
     "output_type": "stream",
     "text": [
      "The best fit line is -0.33 + 2.00 * x\n",
      "The best fit is -0.3333333333333335\n"
     ]
    }
   ],
   "source": [
    "a = numer/denom\n",
    "b = y_bar - a * x_bar\n",
    "print('The best fit line is {0:3.2f} + {1:3.2f} * x'.format(b,a))\n",
    "print(f'The best fit is {b}')"
   ]
  },
  {
   "cell_type": "code",
   "execution_count": 36,
   "id": "e7ffa0c8-4973-4e12-afc2-00fddaeb0af8",
   "metadata": {},
   "outputs": [],
   "source": [
    "def simple_linear_regression(x_train: np.ndarray, y_train: np.ndarray) -> np.ndarray :\n",
    "    \"\"\"\n",
    "        Inputs:\n",
    "        x_train: a (num observations by 1) array holding the values of the predictor variable\n",
    "        y_train: a (num observations by 1) array holding the values of the response variable\n",
    "    \n",
    "        Returns:\n",
    "        beta_vals:  a (num_features by 1) array holding the intercept and slope coeficients\n",
    "    \"\"\"\n",
    "    if len(x_train.shape) < 2:\n",
    "        print(\"Reshaping features array\")\n",
    "        x_train = x_train.reshape(x_train.shape[0], 1)\n",
    "\n",
    "    if len(y_train.shape) < 2:\n",
    "        print(\"Reshaping observations array\")\n",
    "        y_train = y_train.reshape(y_train.shape[0], 1)\n",
    "\n",
    "    y_bar = np.mean(y_train)\n",
    "    x_bar = np.mean(x_train)\n",
    "\n",
    "    aux = (x_train - x_bar)\n",
    "\n",
    "    num = np.sum( (x_train - x_bar) * (y_train - y_bar))\n",
    "    den = np.sum( (x_train - x_bar) ** 2 )\n",
    "    a = num/den\n",
    "    b = y_bar - a * x_bar\n",
    "    return np.array([b,a])"
   ]
  },
  {
   "cell_type": "code",
   "execution_count": 37,
   "id": "902c4312-b368-4803-8eb2-6743efc9598d",
   "metadata": {},
   "outputs": [
    {
     "name": "stdout",
     "output_type": "stream",
     "text": [
      "Reshaping features array\n",
      "Reshaping observations array\n",
      "The best-fit line is 0.666667 * x + 1.000000.\n"
     ]
    }
   ],
   "source": [
    "x_train = np.array([1 ,2, 3])\n",
    "y_train = np.array([2, 2, 4])\n",
    "\n",
    "coeficients = simple_linear_regression(x_train, y_train)\n",
    "\n",
    "a = coeficients[1]\n",
    "b = coeficients[0]\n",
    "\n",
    "print(\"The best-fit line is {1:8.6f} * x + {0:8.6f}.\".format(a, b))"
   ]
  },
  {
   "cell_type": "code",
   "execution_count": 38,
   "id": "d2d03635-5c72-476e-beca-ba9d3e9de2c7",
   "metadata": {},
   "outputs": [
    {
     "data": {
      "text/plain": [
       "Text(0, 0.5, '$y$')"
      ]
     },
     "execution_count": 38,
     "metadata": {},
     "output_type": "execute_result"
    },
    {
     "data": {
      "image/png": "[encoded data removed]",
      "text/plain": [
       "<Figure size 1000x600 with 1 Axes>"
      ]
     },
     "metadata": {},
     "output_type": "display_data"
    }
   ],
   "source": [
    "figure_scat , axes_scat = plt.subplots(1,1,figsize=(10,6))\n",
    "x_train = np.array([[1,2,3]]).T\n",
    "best_fit = b + a * x_train\n",
    "axes_scat.scatter(x_train, y_train, s=300, label='Training Data')\n",
    "axes_scat.plot(x_train, best_fit, ls='-', label='Best fit line')\n",
    "\n",
    "axes_scat.set_xlabel(r'$x_{train}$')\n",
    "axes_scat.set_ylabel(r'$y$')"
   ]
  },
  {
   "cell_type": "code",
   "execution_count": 39,
   "id": "70c32ed5-7a55-49c1-bce7-6149286dfc22",
   "metadata": {},
   "outputs": [],
   "source": [
    "import statsmodels.api as sm"
   ]
  },
  {
   "cell_type": "code",
   "execution_count": 40,
   "id": "a636e354-a3a4-4117-a0e2-aeaea8c3d4cb",
   "metadata": {},
   "outputs": [
    {
     "name": "stdout",
     "output_type": "stream",
     "text": [
      "[[1. 1.]\n",
      " [1. 2.]\n",
      " [1. 3.]]\n",
      "The regression coeff from statsmodels are β_0 = 0.666667 and β_1 = 1.000000\n"
     ]
    }
   ],
   "source": [
    "X = sm.add_constant(x_train)\n",
    "print(X)\n",
    "toyregr_sm = sm.OLS(y_train,X)\n",
    "results_sm = toyregr_sm.fit()\n",
    "beta0_sm = results_sm.params[0]\n",
    "beta1_sm = results_sm.params[1]\n",
    "print(f'The regression coeff from statsmodels are β_0 = {beta0_sm:8.6f} and β_1 = {beta1_sm:8.6f}')"
   ]
  },
  {
   "cell_type": "code",
   "execution_count": 41,
   "id": "4a253c24-6740-4371-ac7d-d7890ad612ed",
   "metadata": {},
   "outputs": [
    {
     "name": "stdout",
     "output_type": "stream",
     "text": [
      "                            OLS Regression Results                            \n",
      "==============================================================================\n",
      "Dep. Variable:                      y   R-squared:                       0.750\n",
      "Model:                            OLS   Adj. R-squared:                  0.500\n",
      "Method:                 Least Squares   F-statistic:                     3.000\n",
      "Date:                Wed, 13 Mar 2024   Prob (F-statistic):              0.333\n",
      "Time:                        10:20:15   Log-Likelihood:                -2.0007\n",
      "No. Observations:                   3   AIC:                             8.001\n",
      "Df Residuals:                       1   BIC:                             6.199\n",
      "Df Model:                           1                                         \n",
      "Covariance Type:            nonrobust                                         \n",
      "==============================================================================\n",
      "                 coef    std err          t      P>|t|      [0.025      0.975]\n",
      "------------------------------------------------------------------------------\n",
      "const          0.6667      1.247      0.535      0.687     -15.181      16.514\n",
      "x1             1.0000      0.577      1.732      0.333      -6.336       8.336\n",
      "==============================================================================\n",
      "Omnibus:                          nan   Durbin-Watson:                   3.000\n",
      "Prob(Omnibus):                    nan   Jarque-Bera (JB):                0.531\n",
      "Skew:                          -0.707   Prob(JB):                        0.767\n",
      "Kurtosis:                       1.500   Cond. No.                         6.79\n",
      "==============================================================================\n",
      "\n",
      "Notes:\n",
      "[1] Standard Errors assume that the covariance matrix of the errors is correctly specified.\n"
     ]
    }
   ],
   "source": [
    "import warnings\n",
    "warnings.filterwarnings('ignore')\n",
    "print(results_sm.summary())"
   ]
  },
  {
   "cell_type": "code",
   "execution_count": 42,
   "id": "5d001785-d997-48a5-955b-b90616257b63",
   "metadata": {},
   "outputs": [],
   "source": [
    "from sklearn import linear_model"
   ]
  },
  {
   "cell_type": "code",
   "execution_count": 43,
   "id": "7bbda22e-08ab-4b16-8a5e-b88c6ecf68f8",
   "metadata": {},
   "outputs": [
    {
     "name": "stdout",
     "output_type": "stream",
     "text": [
      "The regression coeff from sklearn are β_0 = 0.666667 and β_1 = 1.000000\n"
     ]
    }
   ],
   "source": [
    "toyregr = linear_model.LinearRegression()\n",
    "results = toyregr.fit(x_train, y_train)\n",
    "beta0_sl = toyregr.intercept_\n",
    "beta1_sl = toyregr.coef_[0]\n",
    "print(f'The regression coeff from sklearn are β_0 = {beta0_sl:8.6f} and β_1 = {beta1_sl:8.6f}')"
   ]
  },
  {
   "cell_type": "code",
   "execution_count": 44,
   "id": "4d590c70-2c5e-4d6a-83c1-4095c271940e",
   "metadata": {},
   "outputs": [],
   "source": [
    "import sklearn"
   ]
  },
  {
   "cell_type": "code",
   "execution_count": 45,
   "id": "ea99fb29-890b-45fa-b2cd-0ed0ce2db421",
   "metadata": {},
   "outputs": [],
   "source": [
    "# estimator.fit(x_train, y_train)"
   ]
  },
  {
   "cell_type": "code",
   "execution_count": 46,
   "id": "2e5cdeda-b66a-4c3e-aae9-f2725db5300c",
   "metadata": {},
   "outputs": [
    {
     "data": {
      "text/html": [
       "<div>\n",
       "<style scoped>\n",
       "    .dataframe tbody tr th:only-of-type {\n",
       "        vertical-align: middle;\n",
       "    }\n",
       "\n",
       "    .dataframe tbody tr th {\n",
       "        vertical-align: top;\n",
       "    }\n",
       "\n",
       "    .dataframe thead th {\n",
       "        text-align: right;\n",
       "    }\n",
       "</style>\n",
       "<table border=\"1\" class=\"dataframe\">\n",
       "  <thead>\n",
       "    <tr style=\"text-align: right;\">\n",
       "      <th></th>\n",
       "      <th>Unnamed: 0</th>\n",
       "      <th>YearsExperience</th>\n",
       "      <th>Salary</th>\n",
       "    </tr>\n",
       "  </thead>\n",
       "  <tbody>\n",
       "    <tr>\n",
       "      <th>0</th>\n",
       "      <td>0</td>\n",
       "      <td>1.2</td>\n",
       "      <td>39344.0</td>\n",
       "    </tr>\n",
       "    <tr>\n",
       "      <th>1</th>\n",
       "      <td>1</td>\n",
       "      <td>1.4</td>\n",
       "      <td>46206.0</td>\n",
       "    </tr>\n",
       "    <tr>\n",
       "      <th>2</th>\n",
       "      <td>2</td>\n",
       "      <td>1.6</td>\n",
       "      <td>37732.0</td>\n",
       "    </tr>\n",
       "    <tr>\n",
       "      <th>3</th>\n",
       "      <td>3</td>\n",
       "      <td>2.1</td>\n",
       "      <td>43526.0</td>\n",
       "    </tr>\n",
       "    <tr>\n",
       "      <th>4</th>\n",
       "      <td>4</td>\n",
       "      <td>2.3</td>\n",
       "      <td>39892.0</td>\n",
       "    </tr>\n",
       "    <tr>\n",
       "      <th>5</th>\n",
       "      <td>5</td>\n",
       "      <td>3.0</td>\n",
       "      <td>56643.0</td>\n",
       "    </tr>\n",
       "    <tr>\n",
       "      <th>6</th>\n",
       "      <td>6</td>\n",
       "      <td>3.1</td>\n",
       "      <td>60151.0</td>\n",
       "    </tr>\n",
       "    <tr>\n",
       "      <th>7</th>\n",
       "      <td>7</td>\n",
       "      <td>3.3</td>\n",
       "      <td>54446.0</td>\n",
       "    </tr>\n",
       "    <tr>\n",
       "      <th>8</th>\n",
       "      <td>8</td>\n",
       "      <td>3.3</td>\n",
       "      <td>64446.0</td>\n",
       "    </tr>\n",
       "    <tr>\n",
       "      <th>9</th>\n",
       "      <td>9</td>\n",
       "      <td>3.8</td>\n",
       "      <td>57190.0</td>\n",
       "    </tr>\n",
       "    <tr>\n",
       "      <th>10</th>\n",
       "      <td>10</td>\n",
       "      <td>4.0</td>\n",
       "      <td>63219.0</td>\n",
       "    </tr>\n",
       "    <tr>\n",
       "      <th>11</th>\n",
       "      <td>11</td>\n",
       "      <td>4.1</td>\n",
       "      <td>55795.0</td>\n",
       "    </tr>\n",
       "    <tr>\n",
       "      <th>12</th>\n",
       "      <td>12</td>\n",
       "      <td>4.1</td>\n",
       "      <td>56958.0</td>\n",
       "    </tr>\n",
       "    <tr>\n",
       "      <th>13</th>\n",
       "      <td>13</td>\n",
       "      <td>4.2</td>\n",
       "      <td>57082.0</td>\n",
       "    </tr>\n",
       "    <tr>\n",
       "      <th>14</th>\n",
       "      <td>14</td>\n",
       "      <td>4.6</td>\n",
       "      <td>61112.0</td>\n",
       "    </tr>\n",
       "    <tr>\n",
       "      <th>15</th>\n",
       "      <td>15</td>\n",
       "      <td>5.0</td>\n",
       "      <td>67939.0</td>\n",
       "    </tr>\n",
       "    <tr>\n",
       "      <th>16</th>\n",
       "      <td>16</td>\n",
       "      <td>5.2</td>\n",
       "      <td>66030.0</td>\n",
       "    </tr>\n",
       "    <tr>\n",
       "      <th>17</th>\n",
       "      <td>17</td>\n",
       "      <td>5.4</td>\n",
       "      <td>83089.0</td>\n",
       "    </tr>\n",
       "    <tr>\n",
       "      <th>18</th>\n",
       "      <td>18</td>\n",
       "      <td>6.0</td>\n",
       "      <td>81364.0</td>\n",
       "    </tr>\n",
       "    <tr>\n",
       "      <th>19</th>\n",
       "      <td>19</td>\n",
       "      <td>6.1</td>\n",
       "      <td>93941.0</td>\n",
       "    </tr>\n",
       "    <tr>\n",
       "      <th>20</th>\n",
       "      <td>20</td>\n",
       "      <td>6.9</td>\n",
       "      <td>91739.0</td>\n",
       "    </tr>\n",
       "    <tr>\n",
       "      <th>21</th>\n",
       "      <td>21</td>\n",
       "      <td>7.2</td>\n",
       "      <td>98274.0</td>\n",
       "    </tr>\n",
       "    <tr>\n",
       "      <th>22</th>\n",
       "      <td>22</td>\n",
       "      <td>8.0</td>\n",
       "      <td>101303.0</td>\n",
       "    </tr>\n",
       "    <tr>\n",
       "      <th>23</th>\n",
       "      <td>23</td>\n",
       "      <td>8.3</td>\n",
       "      <td>113813.0</td>\n",
       "    </tr>\n",
       "    <tr>\n",
       "      <th>24</th>\n",
       "      <td>24</td>\n",
       "      <td>8.8</td>\n",
       "      <td>109432.0</td>\n",
       "    </tr>\n",
       "    <tr>\n",
       "      <th>25</th>\n",
       "      <td>25</td>\n",
       "      <td>9.1</td>\n",
       "      <td>105583.0</td>\n",
       "    </tr>\n",
       "    <tr>\n",
       "      <th>26</th>\n",
       "      <td>26</td>\n",
       "      <td>9.6</td>\n",
       "      <td>116970.0</td>\n",
       "    </tr>\n",
       "    <tr>\n",
       "      <th>27</th>\n",
       "      <td>27</td>\n",
       "      <td>9.7</td>\n",
       "      <td>112636.0</td>\n",
       "    </tr>\n",
       "    <tr>\n",
       "      <th>28</th>\n",
       "      <td>28</td>\n",
       "      <td>10.4</td>\n",
       "      <td>122392.0</td>\n",
       "    </tr>\n",
       "    <tr>\n",
       "      <th>29</th>\n",
       "      <td>29</td>\n",
       "      <td>10.6</td>\n",
       "      <td>121873.0</td>\n",
       "    </tr>\n",
       "  </tbody>\n",
       "</table>\n",
       "</div>"
      ],
      "text/plain": [
       "    Unnamed: 0  YearsExperience    Salary\n",
       "0            0              1.2   39344.0\n",
       "1            1              1.4   46206.0\n",
       "2            2              1.6   37732.0\n",
       "3            3              2.1   43526.0\n",
       "4            4              2.3   39892.0\n",
       "5            5              3.0   56643.0\n",
       "6            6              3.1   60151.0\n",
       "7            7              3.3   54446.0\n",
       "8            8              3.3   64446.0\n",
       "9            9              3.8   57190.0\n",
       "10          10              4.0   63219.0\n",
       "11          11              4.1   55795.0\n",
       "12          12              4.1   56958.0\n",
       "13          13              4.2   57082.0\n",
       "14          14              4.6   61112.0\n",
       "15          15              5.0   67939.0\n",
       "16          16              5.2   66030.0\n",
       "17          17              5.4   83089.0\n",
       "18          18              6.0   81364.0\n",
       "19          19              6.1   93941.0\n",
       "20          20              6.9   91739.0\n",
       "21          21              7.2   98274.0\n",
       "22          22              8.0  101303.0\n",
       "23          23              8.3  113813.0\n",
       "24          24              8.8  109432.0\n",
       "25          25              9.1  105583.0\n",
       "26          26              9.6  116970.0\n",
       "27          27              9.7  112636.0\n",
       "28          28             10.4  122392.0\n",
       "29          29             10.6  121873.0"
      ]
     },
     "execution_count": 46,
     "metadata": {},
     "output_type": "execute_result"
    }
   ],
   "source": [
    "file_contents = pd.read_csv('Salary_dataset.csv')\n",
    "file_contents"
   ]
  },
  {
   "cell_type": "code",
   "execution_count": 47,
   "id": "19733e93-f7a2-4b39-bcf4-5653a2cd51c2",
   "metadata": {},
   "outputs": [
    {
     "name": "stdout",
     "output_type": "stream",
     "text": [
      "   Unnamed: 0  YearsExperience   Salary\n",
      "0           0              1.2  39344.0\n",
      "1           1              1.4  46206.0\n",
      "2           2              1.6  37732.0\n",
      "3           3              2.1  43526.0\n",
      "4           4              2.3  39892.0\n"
     ]
    }
   ],
   "source": [
    "print(file_contents.head())"
   ]
  },
  {
   "cell_type": "code",
   "execution_count": 48,
   "id": "404fdfef-da40-4cbd-b30d-79a1a5f8775e",
   "metadata": {},
   "outputs": [
    {
     "name": "stdout",
     "output_type": "stream",
     "text": [
      "   Unnamed: 0  YearsExperience   Salary\n",
      "0           0              1.2  39344.0\n",
      "1           1              1.4  46206.0\n",
      "2           2              1.6  37732.0\n",
      "3           3              2.1  43526.0\n",
      "4           4              2.3  39892.0\n"
     ]
    }
   ],
   "source": [
    "from sklearn.linear_model import LinearRegression\n",
    "from sklearn.model_selection import train_test_split\n",
    "print(file_contents.head())\n",
    "X = np.array(file_contents['YearsExperience'])\n",
    "Y = np.array(file_contents['Salary'])\n",
    "X_train, X_test, Y_train, Y_test = train_test_split(X, Y, test_size = 0.25, random_state=0) "
   ]
  },
  {
   "cell_type": "code",
   "execution_count": 49,
   "id": "65408661-59eb-4e35-8a4c-2fe817a4c375",
   "metadata": {},
   "outputs": [
    {
     "data": {
      "text/plain": [
       "array([ 5.4,  8. ,  3. ,  5.2,  3.3,  4.6,  8.3,  6.9,  1.4, 10.6,  3.1,\n",
       "        2.3,  6. ,  6.1,  3.8,  3.3,  9.1,  2.1,  1.2,  7.2,  5. ,  4.1])"
      ]
     },
     "execution_count": 49,
     "metadata": {},
     "output_type": "execute_result"
    }
   ],
   "source": [
    "X_train"
   ]
  },
  {
   "cell_type": "code",
   "execution_count": 50,
   "id": "46b72d97-723d-40fb-904d-c759638fab34",
   "metadata": {},
   "outputs": [
    {
     "data": {
      "text/plain": [
       "array([ 83089., 101303.,  56643.,  66030.,  64446.,  61112., 113813.,\n",
       "        91739.,  46206., 121873.,  60151.,  39892.,  81364.,  93941.,\n",
       "        57190.,  54446., 105583.,  43526.,  39344.,  98274.,  67939.,\n",
       "        56958.])"
      ]
     },
     "execution_count": 50,
     "metadata": {},
     "output_type": "execute_result"
    }
   ],
   "source": [
    "Y_train"
   ]
  },
  {
   "cell_type": "code",
   "execution_count": 51,
   "id": "e505dff1-9280-443c-8b73-f438f28e7f89",
   "metadata": {},
   "outputs": [
    {
     "name": "stdout",
     "output_type": "stream",
     "text": [
      "[[ 5.4]\n",
      " [ 8. ]\n",
      " [ 3. ]\n",
      " [ 5.2]\n",
      " [ 3.3]\n",
      " [ 4.6]\n",
      " [ 8.3]\n",
      " [ 6.9]\n",
      " [ 1.4]\n",
      " [10.6]\n",
      " [ 3.1]\n",
      " [ 2.3]\n",
      " [ 6. ]\n",
      " [ 6.1]\n",
      " [ 3.8]\n",
      " [ 3.3]\n",
      " [ 9.1]\n",
      " [ 2.1]\n",
      " [ 1.2]\n",
      " [ 7.2]\n",
      " [ 5. ]\n",
      " [ 4.1]]\n",
      "[[ 1.6]\n",
      " [10.4]\n",
      " [ 4.2]\n",
      " [ 4. ]\n",
      " [ 9.6]\n",
      " [ 8.8]\n",
      " [ 9.7]\n",
      " [ 4.1]]\n"
     ]
    }
   ],
   "source": [
    "X_train = X_train.reshape(-1, 1)\n",
    "print(X_train)\n",
    "X_test = X_test.reshape(-1, 1)\n",
    "print(X_test)"
   ]
  },
  {
   "cell_type": "code",
   "execution_count": 52,
   "id": "d5c4064e-adc9-4321-b7ab-c078897401d2",
   "metadata": {},
   "outputs": [
    {
     "name": "stdout",
     "output_type": "stream",
     "text": [
      "Linear Regression-Training set score: 0.94\n",
      "Linear Regression-Test set score: 0.98\n"
     ]
    }
   ],
   "source": [
    "lr = LinearRegression().fit(X_train, Y_train)\n",
    "\n",
    "print(f\"Linear Regression-Training set score: {lr.score(X_train, Y_train):.2f}\")\n",
    "print(f\"Linear Regression-Test set score: {lr.score(X_test, Y_test):.2f}\")"
   ]
  },
  {
   "cell_type": "code",
   "execution_count": 53,
   "id": "c772052d-a4f8-4ef7-ac14-55fee0937feb",
   "metadata": {},
   "outputs": [
    {
     "name": "stdout",
     "output_type": "stream",
     "text": [
      "9379.710491946016 * x +  26049.720267542645  = y\n"
     ]
    }
   ],
   "source": [
    "a = lr.coef_[0]\n",
    "b = lr.intercept_\n",
    "print(a,\"* x + \",b , \" = y\")"
   ]
  },
  {
   "cell_type": "code",
   "execution_count": 54,
   "id": "fd828c64-6fb3-4d33-9539-006173b93995",
   "metadata": {},
   "outputs": [
    {
     "data": {
      "text/plain": [
       "array([213643.93010646])"
      ]
     },
     "execution_count": 54,
     "metadata": {},
     "output_type": "execute_result"
    }
   ],
   "source": [
    "lr.predict([[20]])"
   ]
  },
  {
   "cell_type": "code",
   "execution_count": 55,
   "id": "44deeee1-9956-4738-a8c3-e360e25b2f87",
   "metadata": {},
   "outputs": [
    {
     "data": {
      "text/plain": [
       "213643.93010646297"
      ]
     },
     "execution_count": 55,
     "metadata": {},
     "output_type": "execute_result"
    }
   ],
   "source": [
    "a* 20 + b"
   ]
  },
  {
   "cell_type": "code",
   "execution_count": 56,
   "id": "b9c520a8-4878-48f5-beda-f9d122b0cc6a",
   "metadata": {},
   "outputs": [
    {
     "data": {
      "image/png": "[encoded data removed]",
      "text/plain": [
       "<Figure size 1000x600 with 1 Axes>"
      ]
     },
     "metadata": {},
     "output_type": "display_data"
    }
   ],
   "source": [
    "prediction = lr.predict([[20]])\n",
    "figure_scat, axes_scat = plt.subplots(1,1, figsize=(10,6))\n",
    "\n",
    "\n",
    "x = X.T\n",
    "\n",
    "best_fit = b + a * (np.append(x, [20]))\n",
    "\n",
    "axes_scat.scatter(x, Y, s=50, label='Training Data')\n",
    "axes_scat.plot(np.append(x,[20]), best_fit, ls='-.', label='Best Fit Line')\n",
    "\n",
    "axes_scat.plot([20],prediction, \"ys\", label=\"LinearRegression\")\n",
    "axes_scat.set_xlabel(r'$x$')\n",
    "axes_scat.set_ylabel(r'$y$');\n"
   ]
  },
  {
   "cell_type": "code",
   "execution_count": 57,
   "id": "b4bf4b50-88c5-43bd-96d1-bd11bb9e1f0d",
   "metadata": {},
   "outputs": [
    {
     "data": {
      "text/html": [
       "<div>\n",
       "<style scoped>\n",
       "    .dataframe tbody tr th:only-of-type {\n",
       "        vertical-align: middle;\n",
       "    }\n",
       "\n",
       "    .dataframe tbody tr th {\n",
       "        vertical-align: top;\n",
       "    }\n",
       "\n",
       "    .dataframe thead th {\n",
       "        text-align: right;\n",
       "    }\n",
       "</style>\n",
       "<table border=\"1\" class=\"dataframe\">\n",
       "  <thead>\n",
       "    <tr style=\"text-align: right;\">\n",
       "      <th></th>\n",
       "      <th>Hours</th>\n",
       "      <th>Scores</th>\n",
       "    </tr>\n",
       "  </thead>\n",
       "  <tbody>\n",
       "    <tr>\n",
       "      <th>0</th>\n",
       "      <td>2.5</td>\n",
       "      <td>21</td>\n",
       "    </tr>\n",
       "    <tr>\n",
       "      <th>1</th>\n",
       "      <td>5.1</td>\n",
       "      <td>47</td>\n",
       "    </tr>\n",
       "    <tr>\n",
       "      <th>2</th>\n",
       "      <td>3.2</td>\n",
       "      <td>27</td>\n",
       "    </tr>\n",
       "    <tr>\n",
       "      <th>3</th>\n",
       "      <td>8.5</td>\n",
       "      <td>75</td>\n",
       "    </tr>\n",
       "    <tr>\n",
       "      <th>4</th>\n",
       "      <td>3.5</td>\n",
       "      <td>30</td>\n",
       "    </tr>\n",
       "    <tr>\n",
       "      <th>...</th>\n",
       "      <td>...</td>\n",
       "      <td>...</td>\n",
       "    </tr>\n",
       "    <tr>\n",
       "      <th>91</th>\n",
       "      <td>5.8</td>\n",
       "      <td>60</td>\n",
       "    </tr>\n",
       "    <tr>\n",
       "      <th>92</th>\n",
       "      <td>4.4</td>\n",
       "      <td>44</td>\n",
       "    </tr>\n",
       "    <tr>\n",
       "      <th>93</th>\n",
       "      <td>6.1</td>\n",
       "      <td>63</td>\n",
       "    </tr>\n",
       "    <tr>\n",
       "      <th>94</th>\n",
       "      <td>3.7</td>\n",
       "      <td>37</td>\n",
       "    </tr>\n",
       "    <tr>\n",
       "      <th>95</th>\n",
       "      <td>8.0</td>\n",
       "      <td>84</td>\n",
       "    </tr>\n",
       "  </tbody>\n",
       "</table>\n",
       "<p>96 rows × 2 columns</p>\n",
       "</div>"
      ],
      "text/plain": [
       "    Hours  Scores\n",
       "0     2.5      21\n",
       "1     5.1      47\n",
       "2     3.2      27\n",
       "3     8.5      75\n",
       "4     3.5      30\n",
       "..    ...     ...\n",
       "91    5.8      60\n",
       "92    4.4      44\n",
       "93    6.1      63\n",
       "94    3.7      37\n",
       "95    8.0      84\n",
       "\n",
       "[96 rows x 2 columns]"
      ]
     },
     "execution_count": 57,
     "metadata": {},
     "output_type": "execute_result"
    }
   ],
   "source": [
    "file_contents = pd.read_csv('score_updated.csv')\n",
    "file_contents"
   ]
  },
  {
   "cell_type": "code",
   "execution_count": 58,
   "id": "de8b899d-9fa8-4279-82e0-42db407b9146",
   "metadata": {},
   "outputs": [],
   "source": [
    "X = np.array(file_contents['Hours'])\n",
    "Y = np.array(file_contents['Scores'])\n"
   ]
  },
  {
   "cell_type": "code",
   "execution_count": 59,
   "id": "00cce38b-151f-44f0-be2c-5e23a6c8125c",
   "metadata": {},
   "outputs": [],
   "source": [
    "X_tr, X_ts, Y_tr, Y_ts = train_test_split(X, Y, test_size=0.25, random_state=0)"
   ]
  },
  {
   "cell_type": "code",
   "execution_count": 60,
   "id": "0fc49a8e-12ab-4a5b-a668-4bbd29f32841",
   "metadata": {},
   "outputs": [
    {
     "data": {
      "text/plain": [
       "array([4.1, 1.3, 9.2, 8. , 2.6, 1.2, 7.6, 8.6, 5. , 5.8, 7.9, 5.8, 6.1,\n",
       "       8.4, 2.1, 3. , 5.1, 9.3, 6.7, 9.4, 3.5, 8.9, 1.9, 1.8, 5.3, 1.5,\n",
       "       2. , 6.4, 2.5, 3.9, 2.3, 2.8, 5.9, 2.2, 6.9, 6.6, 7.7, 9. , 7. ,\n",
       "       1.7, 9.7, 6.2, 1. , 1.1, 2.9, 7.4, 4.7, 5.7, 6.1, 3.7, 7.5, 2.7,\n",
       "       9.8, 8.7, 4.9, 4.2, 6.3, 8. , 4.4, 8.2, 5.2, 4.5, 4.3, 7.1, 4.8,\n",
       "       6. , 2.7, 4.4, 9.6, 5.4, 3.1, 7.3])"
      ]
     },
     "execution_count": 60,
     "metadata": {},
     "output_type": "execute_result"
    }
   ],
   "source": [
    "X_tr"
   ]
  },
  {
   "cell_type": "code",
   "execution_count": 61,
   "id": "b09a65c2-2eca-42d6-9331-1adfeb7629bd",
   "metadata": {},
   "outputs": [
    {
     "data": {
      "text/plain": [
       "array([9.5, 4. , 3.2, 4.6, 6.8, 7.2, 2.5, 5.6, 2.4, 1.4, 3.6, 3. , 6.5,\n",
       "       3.3, 5.5, 1.6, 3.8, 7.8, 8.1, 8.3, 3.7, 3.4, 8.5, 6.8])"
      ]
     },
     "execution_count": 61,
     "metadata": {},
     "output_type": "execute_result"
    }
   ],
   "source": [
    "X_ts"
   ]
  },
  {
   "cell_type": "code",
   "execution_count": 62,
   "id": "4611f17e-f638-4dd5-afbd-b29d7fad5d57",
   "metadata": {},
   "outputs": [
    {
     "data": {
      "text/plain": [
       "array([44, 16, 88, 84, 32, 14, 78, 89, 52, 60, 80, 63, 67, 84, 20, 27, 47,\n",
       "       94, 71, 93, 30, 95, 24, 21, 56, 20, 18, 64, 21, 38, 23, 29, 62, 22,\n",
       "       76, 72, 85, 92, 73, 18, 96, 68, 12, 17, 31, 69, 50, 59, 63, 37, 70,\n",
       "       30, 99, 87, 51, 49, 66, 79, 45, 83, 53, 41, 43, 73, 54, 61, 25, 44,\n",
       "       98, 55, 28, 77], dtype=int64)"
      ]
     },
     "execution_count": 62,
     "metadata": {},
     "output_type": "execute_result"
    }
   ],
   "source": [
    "Y_tr"
   ]
  },
  {
   "cell_type": "code",
   "execution_count": 63,
   "id": "6334b0d7-2c44-42b4-ac95-fca2ea46dbf8",
   "metadata": {},
   "outputs": [
    {
     "data": {
      "text/plain": [
       "array([90, 40, 27, 48, 74, 72, 30, 57, 26, 15, 36, 34, 65, 42, 60, 19, 35,\n",
       "       86, 82, 81, 37, 33, 75, 67], dtype=int64)"
      ]
     },
     "execution_count": 63,
     "metadata": {},
     "output_type": "execute_result"
    }
   ],
   "source": [
    "Y_ts"
   ]
  },
  {
   "cell_type": "code",
   "execution_count": 64,
   "id": "b3278daf-7417-4794-8ab7-307738a33849",
   "metadata": {},
   "outputs": [],
   "source": [
    "X_tr = X_tr.reshape(-1,1)"
   ]
  },
  {
   "cell_type": "code",
   "execution_count": 65,
   "id": "45d01a65-5055-46d6-a806-d170010e8b98",
   "metadata": {},
   "outputs": [],
   "source": [
    "X_ts = X_ts.reshape(-1,1)"
   ]
  },
  {
   "cell_type": "code",
   "execution_count": 66,
   "id": "202fd7dc-3ead-4520-aec7-91647f226b2e",
   "metadata": {},
   "outputs": [
    {
     "data": {
      "text/plain": [
       "array([[4.1],\n",
       "       [1.3],\n",
       "       [9.2],\n",
       "       [8. ],\n",
       "       [2.6],\n",
       "       [1.2],\n",
       "       [7.6],\n",
       "       [8.6],\n",
       "       [5. ],\n",
       "       [5.8],\n",
       "       [7.9],\n",
       "       [5.8],\n",
       "       [6.1],\n",
       "       [8.4],\n",
       "       [2.1],\n",
       "       [3. ],\n",
       "       [5.1],\n",
       "       [9.3],\n",
       "       [6.7],\n",
       "       [9.4],\n",
       "       [3.5],\n",
       "       [8.9],\n",
       "       [1.9],\n",
       "       [1.8],\n",
       "       [5.3],\n",
       "       [1.5],\n",
       "       [2. ],\n",
       "       [6.4],\n",
       "       [2.5],\n",
       "       [3.9],\n",
       "       [2.3],\n",
       "       [2.8],\n",
       "       [5.9],\n",
       "       [2.2],\n",
       "       [6.9],\n",
       "       [6.6],\n",
       "       [7.7],\n",
       "       [9. ],\n",
       "       [7. ],\n",
       "       [1.7],\n",
       "       [9.7],\n",
       "       [6.2],\n",
       "       [1. ],\n",
       "       [1.1],\n",
       "       [2.9],\n",
       "       [7.4],\n",
       "       [4.7],\n",
       "       [5.7],\n",
       "       [6.1],\n",
       "       [3.7],\n",
       "       [7.5],\n",
       "       [2.7],\n",
       "       [9.8],\n",
       "       [8.7],\n",
       "       [4.9],\n",
       "       [4.2],\n",
       "       [6.3],\n",
       "       [8. ],\n",
       "       [4.4],\n",
       "       [8.2],\n",
       "       [5.2],\n",
       "       [4.5],\n",
       "       [4.3],\n",
       "       [7.1],\n",
       "       [4.8],\n",
       "       [6. ],\n",
       "       [2.7],\n",
       "       [4.4],\n",
       "       [9.6],\n",
       "       [5.4],\n",
       "       [3.1],\n",
       "       [7.3]])"
      ]
     },
     "execution_count": 66,
     "metadata": {},
     "output_type": "execute_result"
    }
   ],
   "source": [
    "X_tr"
   ]
  },
  {
   "cell_type": "code",
   "execution_count": 67,
   "id": "a3c0ba9e-d285-4474-a970-f9b9ff0f9317",
   "metadata": {},
   "outputs": [
    {
     "data": {
      "text/plain": [
       "array([[9.5],\n",
       "       [4. ],\n",
       "       [3.2],\n",
       "       [4.6],\n",
       "       [6.8],\n",
       "       [7.2],\n",
       "       [2.5],\n",
       "       [5.6],\n",
       "       [2.4],\n",
       "       [1.4],\n",
       "       [3.6],\n",
       "       [3. ],\n",
       "       [6.5],\n",
       "       [3.3],\n",
       "       [5.5],\n",
       "       [1.6],\n",
       "       [3.8],\n",
       "       [7.8],\n",
       "       [8.1],\n",
       "       [8.3],\n",
       "       [3.7],\n",
       "       [3.4],\n",
       "       [8.5],\n",
       "       [6.8]])"
      ]
     },
     "execution_count": 67,
     "metadata": {},
     "output_type": "execute_result"
    }
   ],
   "source": [
    "X_ts"
   ]
  },
  {
   "cell_type": "code",
   "execution_count": 68,
   "id": "ce8bf959-38e4-4323-bf29-fff33986dc8d",
   "metadata": {},
   "outputs": [],
   "source": [
    "linear_regression = LinearRegression().fit(X_tr, Y_tr)\n"
   ]
  },
  {
   "cell_type": "code",
   "execution_count": 69,
   "id": "464569cb-5cd2-4976-af17-996b30f02433",
   "metadata": {},
   "outputs": [
    {
     "name": "stdout",
     "output_type": "stream",
     "text": [
      "Linear Regression-Training set score: 0.99\n",
      "Linear Regression-Test set score: 0.96\n"
     ]
    }
   ],
   "source": [
    "print(f\"Linear Regression-Training set score: {linear_regression.score(X_tr, Y_tr):.2f}\")\n",
    "print(f\"Linear Regression-Test set score: {linear_regression.score(X_ts, Y_ts):.2f}\")"
   ]
  },
  {
   "cell_type": "code",
   "execution_count": 70,
   "id": "5a51af5f-4460-43cf-91dd-8dce94112845",
   "metadata": {},
   "outputs": [
    {
     "name": "stdout",
     "output_type": "stream",
     "text": [
      "10.013973783379312 * hours_studied + 1.4392455960044117 = test_score (from 100)\n"
     ]
    }
   ],
   "source": [
    "slope = linear_regression.coef_[0]\n",
    "offset = linear_regression.intercept_\n",
    "print(f'{slope} * hours_studied + {offset} = test_score (from 100)') # that's an ugly test :("
   ]
  },
  {
   "cell_type": "code",
   "execution_count": 71,
   "id": "12dfe3be-bc74-40b5-b896-efc9dac71cc4",
   "metadata": {},
   "outputs": [
    {
     "name": "stdout",
     "output_type": "stream",
     "text": [
      "For 9 hours studied, the expected score is 91.57/100\n"
     ]
    }
   ],
   "source": [
    "print(\"For 9 hours studied, the expected score is {0:4.2f}/100\".format(linear_regression.predict([[9]])[0]))"
   ]
  },
  {
   "cell_type": "code",
   "execution_count": 72,
   "id": "52d82fa2-4708-412f-9882-6af065997034",
   "metadata": {},
   "outputs": [
    {
     "name": "stdout",
     "output_type": "stream",
     "text": [
      "For 9 hours 30 mins studied, the expected score is 96.57/100\n"
     ]
    }
   ],
   "source": [
    "print(\"For 9 hours 30 mins studied, the expected score is {0:4.2f}/100\".format(linear_regression.predict([[9.5]])[0]))"
   ]
  },
  {
   "cell_type": "code",
   "execution_count": 73,
   "id": "06bb4580-6f7b-473e-ba2f-ab106ef071fa",
   "metadata": {},
   "outputs": [
    {
     "name": "stdout",
     "output_type": "stream",
     "text": [
      "For 0 hours studied, the expected score is 1.44/100\n"
     ]
    }
   ],
   "source": [
    "print(\"For 0 hours studied, the expected score is {0:4.2f}/100\".format(linear_regression.predict([[0]])[0]))"
   ]
  },
  {
   "cell_type": "code",
   "execution_count": 74,
   "id": "96b06916-4e36-44fe-b128-75fae0494cc0",
   "metadata": {},
   "outputs": [],
   "source": [
    "def nice_linregr_visual(x: np.array, y: np.array, slope: float, offset:float, title: str) -> plt.Axes:\n",
    "    best_fit = offset + slope * x\n",
    "    font_size = 18\n",
    "    figure, axes = plt.subplots(1,1,figsize = (8,5))\n",
    "    axes.set_xlim(np.min(x) - 1, np.max(x) + 1)\n",
    "    axes.set_ylim(np.min(y) - 1, np.max(y) + 1)\n",
    "    axes.tick_params(labelsize=font_size)\n",
    "    axes.set_xlabel('Hours Studied', fontsize=font_size)\n",
    "    axes.set_ylabel('Test Score (from 100)', fontsize=font_size)\n",
    "    axes.set_title(title, fontsize=font_size)\n",
    "    axes.scatter(x,y,label='Students',color='g')\n",
    "    predict_points = np.array([1,9,9.5])\n",
    "    axes.scatter(predict_points, np.array([slope * val + offset for val in predict_points]),label='Some predictions', color = 'b', s=100)\n",
    "    axes.plot(x,best_fit, label='Prediction Model',color='r')\n",
    "    axes.legend(loc='best', fontsize=font_size)\n",
    "    return axes"
   ]
  },
  {
   "cell_type": "code",
   "execution_count": 75,
   "id": "0c096121-452e-49f6-bafa-af2c4bf344d8",
   "metadata": {},
   "outputs": [
    {
     "data": {
      "image/png": "[encoded data removed]",
      "text/plain": [
       "<Figure size 800x500 with 1 Axes>"
      ]
     },
     "metadata": {},
     "output_type": "display_data"
    }
   ],
   "source": [
    "axes = nice_linregr_visual(X,Y, slope, offset, \"Study-Time/Score Graph\")"
   ]
  },
  {
   "cell_type": "code",
   "execution_count": 76,
   "id": "e64ad442-b209-448d-8a55-5f7691df30af",
   "metadata": {},
   "outputs": [
    {
     "name": "stdout",
     "output_type": "stream",
     "text": [
      "Ridge Regression-Training set score: 0.99\n",
      "Ridge Regression-Test set score: 0.97\n"
     ]
    }
   ],
   "source": [
    "file_contents = pd.read_csv('score_updated.csv')\n",
    "X = np.array(file_contents['Hours'])\n",
    "Y = np.array(file_contents['Scores'])\n",
    "X_tr, X_ts, Y_tr, Y_ts = train_test_split(X, Y, test_size=0.25, random_state=0)\n",
    "X_tr = X_tr.reshape(-1, 1)\n",
    "X_ts = X_ts.reshape(-1, 1)\n",
    "\n",
    "from sklearn.linear_model import Ridge\n",
    "\n",
    "ridge = Ridge(alpha=0.7).fit(X_tr, Y_tr)\n",
    "\n",
    "print(f\"Ridge Regression-Training set score: {ridge.score(X_tr, Y_tr):.2f}\")\n",
    "print(f\"Ridge Regression-Test set score: {ridge.score(X_ts, Y_ts):.2f}\")"
   ]
  },
  {
   "cell_type": "code",
   "execution_count": 77,
   "id": "8aa7319c-d502-4759-a713-600faaba54c3",
   "metadata": {},
   "outputs": [
    {
     "name": "stdout",
     "output_type": "stream",
     "text": [
      "Lasso Regression-Training set score: 0.99\n",
      "Lasso Regression-Test set score: 0.97\n"
     ]
    }
   ],
   "source": [
    "file_contents = pd.read_csv('score_updated.csv')\n",
    "X = np.array(file_contents['Hours'])\n",
    "Y = np.array(file_contents['Scores'])\n",
    "X_tr, X_ts, Y_tr, Y_ts = train_test_split(X, Y, test_size=0.25, random_state=0)\n",
    "X_tr = X_tr.reshape(-1, 1)\n",
    "X_ts = X_ts.reshape(-1, 1)\n",
    "\n",
    "from sklearn.linear_model import Lasso\n",
    "\n",
    "lasso = Lasso(alpha=1.0).fit(X_tr, Y_tr)\n",
    "\n",
    "print(f\"Lasso Regression-Training set score: {lasso.score(X_tr, Y_tr):.2f}\")\n",
    "print(f\"Lasso Regression-Test set score: {lasso.score(X_ts, Y_ts):.2f}\")"
   ]
  },
  {
   "cell_type": "code",
   "execution_count": 78,
   "id": "c92172b1-4da8-4850-80b3-36bda7dd3788",
   "metadata": {},
   "outputs": [
    {
     "name": "stdout",
     "output_type": "stream",
     "text": [
      "Lasso Regression-Training set score: 0.98\n",
      "Lasso Regression-Test set score: 0.97\n"
     ]
    }
   ],
   "source": [
    "file_contents = pd.read_csv('score_updated.csv')\n",
    "X = np.array(file_contents['Hours'])\n",
    "Y = np.array(file_contents['Scores'])\n",
    "X_tr, X_ts, Y_tr, Y_ts = train_test_split(X, Y, test_size=0.25, random_state=0)\n",
    "X_tr = X_tr.reshape(-1, 1)\n",
    "X_ts = X_ts.reshape(-1, 1)\n",
    "\n",
    "from sklearn.linear_model import ElasticNet\n",
    "\n",
    "elastic_net = ElasticNet(alpha=1.0).fit(X_tr, Y_tr)\n",
    "\n",
    "print(f\"Lasso Regression-Training set score: {elastic_net.score(X_tr, Y_tr):.2f}\")\n",
    "print(f\"Lasso Regression-Test set score: {elastic_net.score(X_ts, Y_ts):.2f}\")"
   ]
  },
  {
   "cell_type": "code",
   "execution_count": 79,
   "id": "998cd6e6-f11e-43fc-9f60-942aa9d48c3c",
   "metadata": {},
   "outputs": [
    {
     "name": "stdout",
     "output_type": "stream",
     "text": [
      "10.01 * x + 1.44 = y\n",
      "10.00 * x + 1.52 = y\n",
      "9.86 * x + 2.27 = y\n",
      "9.22 * x + 5.69 = y\n"
     ]
    },
    {
     "data": {
      "text/plain": [
       "<matplotlib.legend.Legend at 0x22b0b1fbf90>"
      ]
     },
     "execution_count": 79,
     "metadata": {},
     "output_type": "execute_result"
    },
    {
     "data": {
      "image/png": "[encoded data removed]",
      "text/plain": [
       "<Figure size 800x500 with 1 Axes>"
      ]
     },
     "metadata": {},
     "output_type": "display_data"
    }
   ],
   "source": [
    "file_contents = pd.read_csv('score_updated.csv')\n",
    "X = np.array(file_contents['Hours'])\n",
    "Y = np.array(file_contents['Scores'])\n",
    "X_tr, X_ts, Y_tr, Y_ts = train_test_split(X, Y, test_size=0.25, random_state=0)\n",
    "X_tr = X_tr.reshape(-1, 1)\n",
    "X_ts = X_ts.reshape(-1, 1)\n",
    "c = LinearRegression().fit(X_tr, Y_tr) # classic linear regression\n",
    "r = Ridge(alpha=0.7).fit(X_tr, Y_tr)\n",
    "l = Lasso(alpha=1.0).fit(X_tr, Y_tr)\n",
    "e = ElasticNet(alpha=1.0).fit(X_tr, Y_tr)\n",
    "slope_c = c.coef_[0]\n",
    "offset_c = c.intercept_\n",
    "slope_r = r.coef_[0]\n",
    "offset_r = r.intercept_\n",
    "slope_l = l.coef_[0]\n",
    "offset_l = l.intercept_\n",
    "slope_e = e.coef_[0]\n",
    "offset_e = e.intercept_\n",
    "print(f\"{slope_c:.2f} * x + {offset_c:.2f} = y\\n\"\n",
    "        + f\"{slope_r:.2f} * x + {offset_r:.2f} = y\\n\"\n",
    "        + f\"{slope_l:.2f} * x + {offset_l:.2f} = y\\n\"\n",
    "        + f\"{slope_e:.2f} * x + {offset_e:.2f} = y\")\n",
    "\n",
    "\n",
    "best_fit_c = offset_c + slope_c * X\n",
    "best_fit_r = offset_r + slope_r * X\n",
    "best_fit_l = offset_l + slope_l * X\n",
    "best_fit_e = offset_e + slope_e * X\n",
    "font_size = 18\n",
    "figure, axes = plt.subplots(1,1,figsize = (8,5))\n",
    "axes.set_xlim(np.min(X) - 1, np.max(X) + 1)\n",
    "axes.set_ylim(np.min(Y) - 1, np.max(Y) + 1)\n",
    "axes.tick_params(labelsize=font_size)\n",
    "axes.set_xlabel('Hours Studied', fontsize=font_size)\n",
    "axes.set_ylabel('Test Score (from 100)', fontsize=font_size)\n",
    "axes.set_title(\"Comparisson between different regularisations\", fontsize=font_size)\n",
    "axes.scatter(X,Y,label='Datapoints',color='k')\n",
    "axes.plot(X,best_fit_c, label='LR',color='c')\n",
    "axes.plot(X,best_fit_r, label='Ridge R.',color='m')\n",
    "axes.plot(X,best_fit_l, label='Lasso R.',color='b')\n",
    "axes.plot(X,best_fit_e, label='Elastic Net R.',color='r')\n",
    "axes.legend(loc='best', fontsize=font_size)"
   ]
  },
  {
   "cell_type": "code",
   "execution_count": null,
   "id": "b2053561-a11c-4537-ab48-7404e665fe96",
   "metadata": {},
   "outputs": [],
   "source": []
  }
 ],
 "metadata": {
  "kernelspec": {
   "display_name": "Python 3 (ipykernel)",
   "language": "python",
   "name": "python3"
  },
  "language_info": {
   "codemirror_mode": {
    "name": "ipython",
    "version": 3
   },
   "file_extension": ".py",
   "mimetype": "text/x-python",
   "name": "python",
   "nbconvert_exporter": "python",
   "pygments_lexer": "ipython3",
   "version": "3.11.8"
  }
 },
 "nbformat": 4,
 "nbformat_minor": 5
}
